{
 "cells": [
  {
   "cell_type": "code",
   "execution_count": 1,
   "id": "56ffc409",
   "metadata": {},
   "outputs": [],
   "source": [
    "!export CUBLAS_WORKSPACE_CONFIG=:4096:8"
   ]
  },
  {
   "cell_type": "code",
   "execution_count": 1,
   "id": "0553157f",
   "metadata": {},
   "outputs": [],
   "source": [
    "import warnings\n",
    "import os\n",
    "os.environ[\"CUDA_DEVICE_ORDER\"] = \"PCI_BUS_ID\"\n",
    "os.environ[\"CUDA_VISIBLE_DEVICES\"] = '2'\n",
    "# import os\n",
    "os.environ['CUBLAS_WORKSPACE_CONFIG'] = ':4096:8' "
   ]
  },
  {
   "cell_type": "code",
   "execution_count": 2,
   "id": "3a93809b",
   "metadata": {},
   "outputs": [
    {
     "name": "stdout",
     "output_type": "stream",
     "text": [
      "\u001b[33mWARNING: Ignoring invalid distribution -orchvision (/DATA/atul_2221cs20/anaconda3/envs/jitu/lib/python3.7/site-packages)\u001b[0m\u001b[33m\n",
      "\u001b[0m\u001b[33mWARNING: Ignoring invalid distribution -orchvision (/DATA/atul_2221cs20/anaconda3/envs/jitu/lib/python3.7/site-packages)\u001b[0m\u001b[33m\n",
      "\u001b[0mCollecting git+https://github.com/openai/CLIP.git\n",
      "  Cloning https://github.com/openai/CLIP.git to /tmp/pip-req-build-51yydkbl\n",
      "  Running command git clone --filter=blob:none --quiet https://github.com/openai/CLIP.git /tmp/pip-req-build-51yydkbl\n",
      "  Resolved https://github.com/openai/CLIP.git to commit a1d071733d7111c9c014f024669f959182114e33\n",
      "  Preparing metadata (setup.py) ... \u001b[?25ldone\n",
      "\u001b[?25hRequirement already satisfied: ftfy in /DATA/atul_2221cs20/anaconda3/envs/jitu/lib/python3.7/site-packages (from clip==1.0) (6.1.1)\n",
      "Requirement already satisfied: regex in /DATA/atul_2221cs20/anaconda3/envs/jitu/lib/python3.7/site-packages (from clip==1.0) (2023.12.25)\n",
      "Requirement already satisfied: tqdm in /DATA/atul_2221cs20/anaconda3/envs/jitu/lib/python3.7/site-packages (from clip==1.0) (4.66.1)\n",
      "Requirement already satisfied: torch in /DATA/atul_2221cs20/anaconda3/envs/jitu/lib/python3.7/site-packages (from clip==1.0) (1.10.0+cu111)\n",
      "Requirement already satisfied: torchvision in /DATA/atul_2221cs20/anaconda3/envs/jitu/lib/python3.7/site-packages (from clip==1.0) (0.11.0+cu111)\n",
      "Requirement already satisfied: wcwidth>=0.2.5 in /DATA/atul_2221cs20/anaconda3/envs/jitu/lib/python3.7/site-packages (from ftfy->clip==1.0) (0.2.5)\n",
      "Requirement already satisfied: typing-extensions in /DATA/atul_2221cs20/anaconda3/envs/jitu/lib/python3.7/site-packages (from torch->clip==1.0) (4.4.0)\n",
      "Requirement already satisfied: pillow!=8.3.0,>=5.3.0 in /DATA/atul_2221cs20/.local/lib/python3.7/site-packages (from torchvision->clip==1.0) (9.5.0)\n",
      "Requirement already satisfied: numpy in /DATA/atul_2221cs20/anaconda3/envs/jitu/lib/python3.7/site-packages (from torchvision->clip==1.0) (1.21.6)\n",
      "\u001b[33mWARNING: Ignoring invalid distribution -orchvision (/DATA/atul_2221cs20/anaconda3/envs/jitu/lib/python3.7/site-packages)\u001b[0m\u001b[33m\n",
      "\u001b[0m\u001b[33mWARNING: Ignoring invalid distribution -orchvision (/DATA/atul_2221cs20/anaconda3/envs/jitu/lib/python3.7/site-packages)\u001b[0m\u001b[33m\n",
      "\u001b[0m\u001b[33mWARNING: Ignoring invalid distribution -orchvision (/DATA/atul_2221cs20/anaconda3/envs/jitu/lib/python3.7/site-packages)\u001b[0m\u001b[33m\n",
      "\u001b[0m\u001b[33mWARNING: There was an error checking the latest version of pip.\u001b[0m\u001b[33m\n",
      "\u001b[0m"
     ]
    }
   ],
   "source": [
    "!pip install git+https://github.com/openai/CLIP.git"
   ]
  },
  {
   "cell_type": "code",
   "execution_count": 3,
   "id": "1f8c9a39",
   "metadata": {},
   "outputs": [],
   "source": [
    "import torch\n",
    "import clip\n",
    "# !pip install git+https://github.com/openai/CLIP.git\n",
    "device = 'cuda' if torch.cuda.is_available() else 'cpu'"
   ]
  },
  {
   "cell_type": "code",
   "execution_count": 4,
   "id": "364ebe3a-ea9d-4ab6-a367-1c0fa0fd79cf",
   "metadata": {},
   "outputs": [
    {
     "data": {
      "text/plain": [
       "'cuda'"
      ]
     },
     "execution_count": 4,
     "metadata": {},
     "output_type": "execute_result"
    }
   ],
   "source": [
    "device"
   ]
  },
  {
   "cell_type": "code",
   "execution_count": 5,
   "id": "32af52f6",
   "metadata": {},
   "outputs": [],
   "source": [
    "import os\n",
    "import clip\n",
    "import torch\n",
    "from torchvision.datasets import CIFAR100\n",
    "import torch\n",
    "import math\n",
    "from torch import nn\n",
    "import pytorch_lightning as pl\n",
    "from sklearn.metrics import accuracy_score, f1_score, confusion_matrix, recall_score,precision_score\n",
    "from torch.utils.data import DataLoader, random_split\n",
    "from pytorch_lightning.callbacks import ModelCheckpoint\n",
    "from torch.nn import functional as F\n",
    "from torchvision.datasets import MNIST\n",
    "from torchvision import datasets, transforms\n",
    "from sklearn.metrics import accuracy_score\n",
    "from sklearn.metrics import roc_auc_score\n",
    "import pandas as pd\n",
    "from skimage import io, transform\n",
    "import numpy as np\n",
    "import matplotlib.pyplot as plt\n",
    "from torch.utils.data import Dataset, DataLoader\n",
    "from tqdm.notebook import tqdm\n",
    "from PIL import Image\n",
    "from torchvision import transforms\n",
    "from PIL import ImageFile\n",
    "ImageFile.LOAD_TRUNCATED_IMAGES = True"
   ]
  },
  {
   "cell_type": "code",
   "execution_count": 6,
   "id": "941a1a08",
   "metadata": {},
   "outputs": [],
   "source": [
    "data = pd.read_csv('/DATA/atul_2221cs20/jitendra/ethics/cm_train.csv')  #Drive link where your data is saved\n",
    "#data_test = pd.read_csv('/home/gitanjali_2021cs03/work_on_bias_final/gender_biasness/MAMI_test_scene_graph.csv')"
   ]
  },
  {
   "cell_type": "code",
   "execution_count": 7,
   "id": "b4b71389",
   "metadata": {},
   "outputs": [
    {
     "data": {
      "text/html": [
       "<div>\n",
       "<style scoped>\n",
       "    .dataframe tbody tr th:only-of-type {\n",
       "        vertical-align: middle;\n",
       "    }\n",
       "\n",
       "    .dataframe tbody tr th {\n",
       "        vertical-align: top;\n",
       "    }\n",
       "\n",
       "    .dataframe thead th {\n",
       "        text-align: right;\n",
       "    }\n",
       "</style>\n",
       "<table border=\"1\" class=\"dataframe\">\n",
       "  <thead>\n",
       "    <tr style=\"text-align: right;\">\n",
       "      <th></th>\n",
       "      <th>label</th>\n",
       "      <th>input</th>\n",
       "    </tr>\n",
       "  </thead>\n",
       "  <tbody>\n",
       "    <tr>\n",
       "      <th>0</th>\n",
       "      <td>1</td>\n",
       "      <td>I went to the principal's office to change my ...</td>\n",
       "    </tr>\n",
       "    <tr>\n",
       "      <th>1</th>\n",
       "      <td>0</td>\n",
       "      <td>I secured the loan because I would make the pa...</td>\n",
       "    </tr>\n",
       "    <tr>\n",
       "      <th>2</th>\n",
       "      <td>0</td>\n",
       "      <td>After asking my daughter first, I discuss my d...</td>\n",
       "    </tr>\n",
       "    <tr>\n",
       "      <th>3</th>\n",
       "      <td>1</td>\n",
       "      <td>I discuss my daughter's health problems with o...</td>\n",
       "    </tr>\n",
       "    <tr>\n",
       "      <th>4</th>\n",
       "      <td>1</td>\n",
       "      <td>As my grandparents slept, I moved their laundr...</td>\n",
       "    </tr>\n",
       "  </tbody>\n",
       "</table>\n",
       "</div>"
      ],
      "text/plain": [
       "   label                                              input\n",
       "0      1  I went to the principal's office to change my ...\n",
       "1      0  I secured the loan because I would make the pa...\n",
       "2      0  After asking my daughter first, I discuss my d...\n",
       "3      1  I discuss my daughter's health problems with o...\n",
       "4      1  As my grandparents slept, I moved their laundr..."
      ]
     },
     "execution_count": 7,
     "metadata": {},
     "output_type": "execute_result"
    }
   ],
   "source": [
    "data.head(5)"
   ]
  },
  {
   "cell_type": "code",
   "execution_count": 8,
   "id": "8b750f64",
   "metadata": {},
   "outputs": [
    {
     "data": {
      "text/plain": [
       "13910"
      ]
     },
     "execution_count": 8,
     "metadata": {},
     "output_type": "execute_result"
    }
   ],
   "source": [
    "len(data)"
   ]
  },
  {
   "cell_type": "code",
   "execution_count": null,
   "id": "c158ff68",
   "metadata": {},
   "outputs": [],
   "source": []
  },
  {
   "cell_type": "code",
   "execution_count": 34,
   "id": "a4d9a9d9",
   "metadata": {},
   "outputs": [],
   "source": [
    "from multilingual_clip import pt_multilingual_clip\n",
    "import transformers"
   ]
  },
  {
   "cell_type": "code",
   "execution_count": 35,
   "id": "d5ee6acb",
   "metadata": {},
   "outputs": [
    {
     "name": "stderr",
     "output_type": "stream",
     "text": [
      "Some weights of the model checkpoint at xlm-roberta-large were not used when initializing XLMRobertaModel: ['lm_head.layer_norm.weight', 'lm_head.dense.bias', 'lm_head.decoder.weight', 'lm_head.bias', 'lm_head.layer_norm.bias', 'lm_head.dense.weight']\n",
      "- This IS expected if you are initializing XLMRobertaModel from the checkpoint of a model trained on another task or with another architecture (e.g. initializing a BertForSequenceClassification model from a BertForPreTraining model).\n",
      "- This IS NOT expected if you are initializing XLMRobertaModel from the checkpoint of a model that you expect to be exactly identical (initializing a BertForSequenceClassification model from a BertForSequenceClassification model).\n"
     ]
    },
    {
     "name": "stdout",
     "output_type": "stream",
     "text": [
      "torch.Size([4, 768])\n"
     ]
    }
   ],
   "source": [
    "#just to check how multilingual clip works\n",
    "texts = [\n",
    "    'Three blind horses listening to Mozart.',\n",
    "    'Älgen är skogens konung!',\n",
    "    'Wie leben Eisbären in der Antarktis?',\n",
    "    'Вы знали, что все белые медведи левши?'\n",
    "]\n",
    "model_name = 'M-CLIP/XLM-Roberta-Large-Vit-L-14'\n",
    "# Load Model & Tokenizer\n",
    "model_t = pt_multilingual_clip.MultilingualCLIP.from_pretrained(model_name)\n",
    "tokenizer = transformers.AutoTokenizer.from_pretrained(model_name)\n",
    "embeddings = model_t.forward(texts, tokenizer)\n",
    "print(embeddings.shape)"
   ]
  },
  {
   "cell_type": "code",
   "execution_count": 36,
   "id": "1361c03c",
   "metadata": {},
   "outputs": [],
   "source": [
    "import os\n",
    "#os.environ['CUDA_VISIBLE_DEVICES']='2'\n",
    "device = 'cuda' if torch.cuda.is_available() else 'cpu'\n",
    "# clip_model, compose = clip.load('RN50x4', device = device)\n",
    "clip_model, compose = clip.load(\"ViT-B/32\", device = device)\n",
    "# text_inputs = (clip.tokenize(data.Text_Transcription.values[321],truncate=True)).to(device)\n",
    "# print(text_inputs)"
   ]
  },
  {
   "cell_type": "code",
   "execution_count": 10,
   "id": "33354efc",
   "metadata": {},
   "outputs": [],
   "source": [
    "def get_data(data):\n",
    "  #data = pd.read_csv(dataset_path)\n",
    "  text = list(data['input'])\n",
    "#   img_path = list(data['name'])\n",
    "#   name = list(data['name'])\n",
    "  # label = list(data['Level1'])\n",
    "  label = list(data['label'])\n",
    "  text_features,image_features,l,Name,v = [],[],[],[],[]\n",
    "  for txt,L in tqdm(zip(text,label)):\n",
    "    # try:\n",
    "    #   img = Image.open('/home/gitanjali_2021cs03/work_on_bias_final/gender_biasness/MAMI_2022_images/training_images/'+img)\n",
    "    # except Exception as e:\n",
    "    #   print(e)\n",
    "    #   continue\n",
    "\n",
    "    # img = torch.stack([compose(img).to(device)])\n",
    "    l.append(int(L))\n",
    "    # Name.append(n)\n",
    "    with torch.no_grad():\n",
    "        txt=txt[:77]\n",
    "        #print(txt)\n",
    "        temp_txt = model_t.forward(txt, tokenizer).detach().cpu().numpy()\n",
    "            #print(temp_txt.shape)\n",
    "#             temp_txt = model.forward(txt, tokenizer).detach().cpu().numpy()\n",
    "            \n",
    "        text_features.append(temp_txt)\n",
    "        #temp_txt=model_t.forward(txt, tokenizer).detach().cpu().numpy()\n",
    "        #text_features.append(temp_txt)\n",
    "        del temp_txt\n",
    "        torch.cuda.empty_cache()\n",
    "        \n",
    "      #temp_img = clip_model.encode_image(img).detach().cpu().numpy()\n",
    "      #image_features.append(temp_img)\n",
    "    \n",
    "    #   del temp_img\n",
    "    #del img\n",
    "    #torch.cuda.empty_cache()\n",
    "\n",
    "  return text_features,l\n",
    "\n"
   ]
  },
  {
   "cell_type": "code",
   "execution_count": 11,
   "id": "b20bce7f",
   "metadata": {},
   "outputs": [],
   "source": [
    "class HatefulDataset(Dataset):\n",
    "\n",
    "  def __init__(self,data):\n",
    "    self.t_f,self.label = get_data(data)\n",
    "    self.t_f = np.squeeze(np.asarray(self.t_f),axis=1)\n",
    "    # self.i_f = np.squeeze(np.asarray(self.i_f),axis=1)\n",
    "  def __len__(self):\n",
    "    return len(self.label)\n",
    "\n",
    "  def __getitem__(self,idx):\n",
    "    if torch.is_tensor(idx):\n",
    "      idx = idx.tolist()\n",
    "    #print(idx)\n",
    "    # name=self.name[idx]\n",
    "    label = self.label[idx]\n",
    "    T = self.t_f[idx,:]\n",
    "    # I = self.i_f[idx,:]\n",
    "    sample = {'label':label,'processed_txt':T}\n",
    "    return sample"
   ]
  },
  {
   "cell_type": "code",
   "execution_count": 130,
   "id": "6676e33e",
   "metadata": {},
   "outputs": [
    {
     "data": {
      "application/vnd.jupyter.widget-view+json": {
       "model_id": "75769ccb3b954197b14a0f612c57adcd",
       "version_major": 2,
       "version_minor": 0
      },
      "text/plain": [
       "0it [00:00, ?it/s]"
      ]
     },
     "metadata": {},
     "output_type": "display_data"
    }
   ],
   "source": [
    "#sample_dataset = HatefulDataset(data)"
   ]
  },
  {
   "cell_type": "code",
   "execution_count": 133,
   "id": "259f9c9e",
   "metadata": {},
   "outputs": [
    {
     "data": {
      "text/plain": [
       "{'label': 1,\n",
       " 'processed_txt': array([-1.52348652e-01, -7.54387453e-02, -1.65186912e-01,  2.63631344e-01,\n",
       "         2.20908076e-01, -1.77685574e-01, -4.23201114e-01,  1.34160891e-01,\n",
       "         9.94548053e-02, -3.46936695e-02,  1.57933071e-01, -2.17930786e-02,\n",
       "         3.13578576e-01,  1.24466382e-02, -3.04684609e-01,  3.53767842e-01,\n",
       "         3.65526080e-01, -1.23490877e-01,  3.28399474e-03, -1.14590302e-02,\n",
       "        -3.43225390e-01,  1.87817276e-01, -6.19067019e-03, -1.21930800e-01,\n",
       "         5.32314658e-01, -2.31333449e-01, -1.09672010e-01,  3.25455852e-02,\n",
       "         4.23649043e-01, -1.44125357e-01, -2.86487490e-01, -1.98219806e-01,\n",
       "        -1.82634786e-01, -5.94884455e-02,  7.19535530e-01, -3.58192384e-01,\n",
       "         3.26418817e-01, -1.30252019e-01,  2.49947365e-02, -1.75835803e-01,\n",
       "         1.68119103e-01, -2.25986481e-01, -1.64066255e-01,  2.79580019e-02,\n",
       "        -2.69701838e-01, -2.12918147e-01, -3.39793414e-01, -1.27989044e-02,\n",
       "        -6.29800022e-01,  2.44532805e-03,  5.25802597e-02, -1.67397201e-01,\n",
       "        -5.55279851e-01,  2.28763252e-01, -1.97009668e-01, -1.37015060e-01,\n",
       "         4.46936876e-01,  1.74014911e-01,  3.93081550e-03, -3.74964386e-01,\n",
       "        -1.85160041e-01, -1.50998235e-01,  4.30703878e-01,  7.89114609e-02,\n",
       "        -3.09914798e-01, -1.80395097e-01,  4.11479138e-02, -1.13286003e-01,\n",
       "         9.83148813e-02,  2.34364897e-01, -1.70160294e-01,  3.90733033e-01,\n",
       "         3.82682383e-01, -1.38060808e-01,  3.99577290e-01, -1.51459705e-02,\n",
       "        -4.27879393e-01,  2.09131911e-01, -4.18656357e-02, -2.02424392e-01,\n",
       "        -4.27100062e-01, -2.53053516e-01,  2.48483777e-01, -2.69920796e-01,\n",
       "        -1.58409193e-01,  2.71096826e-01, -2.69344777e-01,  4.23858389e-02,\n",
       "        -2.04038352e-01,  1.56989485e-01, -2.15850160e-01,  2.44706109e-01,\n",
       "        -1.43585987e-02,  1.46596983e-01,  1.08000405e-01,  2.18328744e-01,\n",
       "        -2.24590465e-01, -7.61914626e-02,  1.33189470e-01,  2.38404591e-02,\n",
       "         1.63637958e-02, -3.03550541e-01,  1.98261902e-01,  1.09625064e-01,\n",
       "         3.00295621e-01, -3.11237201e-02,  3.30719352e-01,  1.17640115e-01,\n",
       "         3.99934679e-01, -4.82664436e-01, -1.40254200e-01, -1.89796835e-02,\n",
       "         2.40911156e-01, -1.68317080e-01,  6.42729178e-02,  2.20734403e-02,\n",
       "        -2.45307416e-01, -4.58103597e-01,  3.43061775e-01,  2.75370687e-01,\n",
       "        -2.87942052e-01, -8.98431689e-02, -3.38701397e-01,  3.62610549e-01,\n",
       "        -3.80156143e-03,  2.59788632e-01,  2.28271469e-01, -2.18372732e-01,\n",
       "         3.28894049e-01,  1.99158639e-01,  3.89786273e-01, -9.18750882e-01,\n",
       "        -9.19481441e-02, -1.13272712e-01,  2.01947957e-01, -4.06242877e-01,\n",
       "        -9.10985023e-02,  3.09664547e-01,  1.25046119e-01, -4.73203391e-01,\n",
       "        -3.06613326e-01,  1.49159580e-01,  8.59927908e-02,  1.54408827e-01,\n",
       "        -3.42172951e-01, -1.24582380e-01,  3.35991561e-01,  7.03117028e-02,\n",
       "        -6.96934909e-02, -2.23632261e-01, -1.95170656e-01, -1.84682176e-01,\n",
       "        -1.67622879e-01,  2.29059786e-01, -5.59377447e-02, -1.60461990e-03,\n",
       "         6.59090951e-02,  1.37702703e-01, -3.29243578e-02,  7.93567374e-02,\n",
       "         2.00096041e-01, -2.38528758e-01,  1.20976277e-01, -2.61353165e-01,\n",
       "         2.26040125e-01,  1.22908220e-01,  3.22690666e-01, -4.01666127e-02,\n",
       "         6.33932278e-02, -2.43491247e-01,  2.20654979e-01,  2.84206241e-01,\n",
       "         4.00093943e-01, -6.52796865e-01, -1.67254671e-01, -1.98801816e-01,\n",
       "        -2.10688680e-01, -1.67207077e-01,  6.35481358e-01, -2.17486471e-01,\n",
       "        -7.25128651e-01, -5.25288522e-01, -5.48574984e-01,  4.35650885e-01,\n",
       "        -2.64977038e-01, -2.71552831e-01,  5.60684323e-01, -2.41872117e-01,\n",
       "        -3.99457008e-01,  3.26305330e-01, -3.86360079e-01,  1.47881299e-01,\n",
       "         1.91077143e-01,  4.06818867e-01, -2.32366920e-01, -1.27851772e+00,\n",
       "         3.12859267e-01, -2.16171578e-01, -4.16233033e-01,  1.47677422e-01,\n",
       "        -2.75874674e-01,  5.36023617e-01, -1.90467641e-01,  4.70423102e-01,\n",
       "         2.27384433e-01,  7.92671219e-02,  6.02567673e-01,  1.14731222e-01,\n",
       "        -4.31975583e-03,  1.03838116e-01, -4.62497413e-01,  5.07365167e-01,\n",
       "         9.74704921e-02,  2.46464655e-01,  1.56042567e-02, -5.53845644e-01,\n",
       "        -5.65161824e-01, -5.97777739e-02, -3.69805574e-01,  3.64382505e-01,\n",
       "        -1.89123020e-01, -3.65449339e-01, -6.49709821e-01,  2.28943363e-01,\n",
       "        -3.49633902e-01,  2.71841109e-01,  2.27296412e-01,  2.01080710e-01,\n",
       "         3.70762974e-01, -7.25869417e-01,  2.27214977e-01,  5.11393696e-02,\n",
       "         4.23343807e-01, -1.14464253e-01,  1.63259268e-01, -4.92609531e-01,\n",
       "         4.63284627e-02, -2.77007729e-01,  1.01367701e-02,  4.59677786e-01,\n",
       "        -1.37311518e-01,  3.91297191e-02,  2.94648893e-02,  2.14317724e-01,\n",
       "        -3.61198246e-01,  1.85676023e-01,  2.81951785e-01,  1.25284582e-01,\n",
       "         3.23575102e-02,  3.52206737e-01,  3.76272649e-01, -3.10920298e-01,\n",
       "         1.28109768e-01, -1.04233138e-01,  2.69234389e-01,  6.77213445e-02,\n",
       "         3.73540744e-02, -6.63285017e-01, -3.62518460e-01, -5.57804942e-01,\n",
       "         2.30931178e-01,  7.79313445e-02, -3.54995340e-01, -3.48293573e-01,\n",
       "         4.80186157e-02, -1.98214978e-01,  5.57648957e-01, -6.59501702e-02,\n",
       "         1.18951596e-01,  2.89549828e-01, -1.48654819e-01, -9.86021087e-02,\n",
       "         1.97835103e-01,  1.41654417e-01,  1.52752951e-01,  3.01191300e-01,\n",
       "         2.37210646e-01, -4.08439301e-02,  1.27715003e-02, -4.40143235e-03,\n",
       "         2.26210788e-01,  2.68315136e-01,  5.20046651e-01, -1.11881234e-01,\n",
       "         8.80920589e-02,  1.00830734e-01, -1.47593871e-01,  3.29700947e-01,\n",
       "        -7.22321093e-01, -5.81998229e-02,  2.05973163e-01, -2.80036824e-03,\n",
       "        -1.74895212e-01,  4.16241921e-02,  4.17543054e-01,  2.71255821e-01,\n",
       "         5.88409193e-02,  3.19183588e-01, -2.31196016e-01, -2.23295122e-01,\n",
       "        -3.98525864e-01,  3.34715545e-01,  1.25897735e-01,  4.52575982e-02,\n",
       "         1.42683417e-01, -3.06069076e-01,  2.84934312e-01,  1.44927502e-01,\n",
       "         2.47457325e-01,  3.84525716e-01,  4.63293605e-02, -4.26104367e-01,\n",
       "        -3.73824328e-01,  1.44681916e-01, -2.12453291e-01, -1.69333413e-01,\n",
       "        -7.94074965e+00, -6.15066588e-01, -1.87399596e-01, -3.90921205e-01,\n",
       "        -3.39996926e-02,  2.61027426e-01,  1.91670895e-01,  2.47534979e-02,\n",
       "        -2.23497599e-01, -1.34879187e-01, -4.52932358e-01, -4.11001563e-01,\n",
       "        -3.14188600e-02, -3.46889734e-01, -3.12177911e-02, -8.62855613e-02,\n",
       "         2.59407878e-01,  2.26800367e-02,  2.38525480e-01, -1.64246395e-01,\n",
       "         3.01673800e-01, -1.10806361e-01,  1.70809194e-01, -1.65407106e-01,\n",
       "         9.27247852e-02,  1.27410322e-01, -2.29063720e-01,  6.73042089e-02,\n",
       "        -4.18997139e-01, -1.13820329e-01, -1.46181494e-01,  9.12078992e-02,\n",
       "         1.44406059e-03,  2.32647695e-02,  2.18093947e-01,  1.09626658e-01,\n",
       "        -4.38508481e-01, -2.03374743e-01,  2.55312413e-01, -2.87521660e-01,\n",
       "         9.76675302e-02, -1.61466897e-02,  3.50451499e-01, -4.66961041e-02,\n",
       "         1.56235337e-01, -2.67730743e-01, -3.42481464e-01, -2.69813746e-01,\n",
       "         1.39426008e-01, -1.50933396e-03,  1.15355998e-01, -4.48034406e-01,\n",
       "        -1.76454440e-01, -1.47129416e-01,  4.91874814e-01, -4.52650934e-02,\n",
       "        -2.94973999e-01,  1.67876184e-01,  1.65411428e-01,  1.46177739e-01,\n",
       "        -2.17563838e-01,  3.26503396e-01, -9.51942652e-02, -1.29082769e-01,\n",
       "         1.39236242e-01,  9.76648256e-02, -2.89287806e-01, -1.95696414e-01,\n",
       "        -4.37743992e-01,  1.11588860e+00, -7.27993250e-02,  1.16946407e-01,\n",
       "        -3.94273043e-01, -3.19241583e-01,  1.84096619e-01, -2.47860834e-01,\n",
       "        -4.05255437e-01, -6.28020093e-02,  3.38482969e-02,  3.54182154e-01,\n",
       "         3.05150330e-01, -5.74991167e-01,  2.50686407e-01,  8.55643973e-02,\n",
       "        -5.14799416e-01, -3.35796654e-01,  6.48090184e-01, -7.14865029e-02,\n",
       "         1.23019531e-01, -2.48695135e-01, -3.76843929e-01,  1.09045908e-01,\n",
       "         4.84092772e-01,  4.32553709e-01, -1.58405751e-01,  4.02801633e-01,\n",
       "         1.26144886e-01, -8.46815526e-01, -3.34626883e-01,  4.62527961e-01,\n",
       "         3.34587812e-01, -3.01537991e-01, -1.06520325e-01,  3.39806139e-01,\n",
       "         1.81679189e-01,  4.91434745e-02,  3.26206595e-01,  2.26994663e-01,\n",
       "        -4.46683288e-01,  6.85441941e-02,  5.58359772e-02,  1.33791670e-01,\n",
       "         3.24020565e-01, -1.68857500e-01, -2.50090569e-01, -1.58194005e-01,\n",
       "         1.80752203e-01, -5.57915509e-01,  1.99769780e-01,  2.75872856e-01,\n",
       "        -4.11953777e-02,  2.16474961e-02,  4.02791232e-01, -1.78232357e-01,\n",
       "         7.48927784e+00, -4.96820599e-01, -1.21523499e-01,  4.74948376e-01,\n",
       "         2.15358615e-01, -2.56382167e-01,  1.53432071e-01,  5.80454469e-01,\n",
       "         2.58281469e-01,  1.52901173e-01, -4.18306440e-01,  3.68622929e-01,\n",
       "         1.18407018e-01, -4.55016121e-02, -2.61941314e-01,  4.46186602e-01,\n",
       "        -3.78342941e-02, -1.55334696e-01,  7.46510923e-02,  6.70801327e-02,\n",
       "         3.96617591e-01, -3.43825743e-02, -3.62199336e-01,  8.38125944e-01,\n",
       "        -6.09553277e-01,  2.58928649e-02, -1.77397907e-01, -6.26733184e-01,\n",
       "        -1.58685341e-01,  1.18080400e-01,  1.27589047e-01,  5.59208930e-01,\n",
       "        -5.16336024e-01, -1.21759579e-01,  4.36526150e-01,  4.13465738e-01,\n",
       "        -1.64529532e-01, -4.15885478e-01, -3.76300305e-01, -2.44899675e-01,\n",
       "        -2.17768818e-01, -8.36327076e-02, -6.94007650e-02, -1.24518663e-01,\n",
       "         1.06169209e-01,  4.06929910e-01, -4.74747270e-01, -2.90783029e-02,\n",
       "        -7.28767216e-02, -4.31495637e-01,  1.03653729e-01, -2.95995325e-01,\n",
       "        -9.52237070e-01,  7.01151118e-02,  7.16022909e-01, -1.29194614e-02,\n",
       "        -1.38439611e-01,  3.10406327e-01,  1.38464808e-01, -7.20578134e-02,\n",
       "        -6.31935447e-02, -4.81728464e-01, -7.14040101e-01,  2.11546104e-02,\n",
       "         1.68091372e-01, -3.29773128e-01,  1.01595722e-01, -5.67739606e-01,\n",
       "         1.23574391e-01, -1.65887505e-01,  2.32898332e-02, -2.84387469e-01,\n",
       "        -3.22725952e-01, -1.97204784e-01,  3.17257404e-01, -1.91881470e-02,\n",
       "        -6.16015792e-01,  3.19519006e-02,  2.33477056e-01, -7.24879652e-02,\n",
       "         2.15773985e-01, -2.28550518e-03,  1.42119735e-01, -3.35382707e-02,\n",
       "         5.43118753e-02,  5.92338927e-02, -2.28283599e-01,  3.25044155e-01,\n",
       "         8.29242021e-02, -1.43684015e-01,  3.00126635e-02, -4.62890491e-02,\n",
       "         2.12001070e-01,  2.74408888e-02, -5.12618840e-01, -8.24371129e-02,\n",
       "         2.80775607e-01,  2.99816608e-01,  1.08526148e-01, -3.05336088e-01,\n",
       "         1.39360309e-01,  1.08991647e+00, -7.00437367e-01,  2.34556988e-01,\n",
       "        -2.42271200e-01,  1.70286223e-01,  3.17163855e-01,  2.45996848e-01,\n",
       "         3.85419220e-01, -1.55034736e-01, -7.06114233e-01, -4.23721880e-01,\n",
       "        -1.50286825e-02, -3.37627351e-01, -6.88496113e-01, -1.54669970e-01,\n",
       "        -4.46563177e-02,  1.61435649e-01,  1.76928062e-02, -2.85870135e-02,\n",
       "         2.02658460e-01,  2.43254274e-01, -2.12989431e-02, -1.76731616e-01,\n",
       "        -8.02696347e-01, -3.63211513e-01,  3.16261232e-01,  3.38679045e-01,\n",
       "         1.24294110e-01,  1.80287570e-01,  3.25906128e-01,  7.34228432e-01,\n",
       "        -1.63021147e-01,  2.53682107e-01, -2.34885156e-01,  2.49405190e-01,\n",
       "         1.40891122e-02,  3.46182019e-01, -2.75467604e-01,  1.83661640e-01,\n",
       "         1.77401751e-01,  2.56706297e-01, -1.24397129e-01, -1.95550725e-01,\n",
       "         5.48571706e-01, -2.64249325e-01,  3.71877491e-01,  1.45861521e-01,\n",
       "         3.06833237e-01, -5.18527746e-01,  1.66829914e-01,  3.37134540e-01,\n",
       "         1.70626044e-01,  2.70171583e-01, -1.95918322e-01, -3.27048481e-01,\n",
       "         1.13558054e-01, -2.41564363e-01,  4.83923614e-01,  1.85814649e-01,\n",
       "        -1.53869435e-01,  1.68489650e-01, -1.74726211e-02, -2.43168741e-01,\n",
       "        -3.59221071e-01, -3.60236257e-01,  3.45328718e-01,  1.98245928e-01,\n",
       "         5.17597258e-01, -2.35684570e-02, -6.84368536e-02,  5.18672109e-01,\n",
       "         6.86280131e-02, -6.32571340e-01, -1.32232144e-01, -1.10972382e-01,\n",
       "        -4.08603810e-03, -1.28984725e+00,  1.06259853e-01,  2.41173804e-01,\n",
       "        -8.78174417e-03,  1.64133590e-03,  1.73949301e-01,  1.75081193e-01,\n",
       "        -1.52461603e-01,  4.40369904e-01, -6.10699832e-01, -1.08522728e-01,\n",
       "        -2.77547240e-01,  1.64377198e-01,  4.16378677e-02,  3.01992357e-01,\n",
       "        -2.70885944e-01,  1.51697740e-01,  1.57039538e-01,  4.36360806e-01,\n",
       "        -8.94421563e-02, -4.76843268e-01,  8.99673551e-02,  2.73456052e-02,\n",
       "         2.57336020e-01, -2.82012463e-01, -2.54421651e-01,  3.51367027e-01,\n",
       "         8.42539907e-01,  3.81732322e-02,  3.56449962e-01, -2.02878080e-02,\n",
       "        -6.23010814e-01,  5.34882881e-02,  1.77001938e-01, -3.53028655e-01,\n",
       "        -2.89488465e-01, -1.56007841e-01, -2.86746055e-01,  3.31370682e-01,\n",
       "        -2.31300384e-01, -4.28270787e-01,  1.39063895e-01,  2.07923144e-01,\n",
       "        -1.30206458e-02, -1.21419795e-01,  1.46226659e-01, -2.86583394e-01,\n",
       "        -1.50550455e-02,  3.10558885e-01, -4.14950810e-02,  7.42183805e-01,\n",
       "         4.22238439e-01,  7.21391022e-01,  2.80954540e-01, -9.24544632e-02,\n",
       "        -2.38552287e-01, -6.10348508e-02,  9.94391143e-02, -3.41443092e-01,\n",
       "        -3.58188227e-02,  1.74637347e-01, -1.82759181e-01,  4.40005481e-01,\n",
       "         2.48247474e-01, -6.22841120e-01,  1.51897699e-01, -8.71074721e-02,\n",
       "         1.05541512e-01, -1.23560846e-01,  2.63398349e-01, -4.78883654e-01,\n",
       "         1.88999083e-02, -7.09999427e-02, -3.41791064e-01, -1.12202883e-01,\n",
       "         3.42769176e-01, -1.93459883e-01, -1.84404209e-01,  3.50360990e-01,\n",
       "        -7.24291848e-03,  2.16859818e-01, -1.98765129e-01,  1.33959487e-01,\n",
       "        -3.65265310e-01, -9.60680842e-02,  9.19690430e-02, -9.46077943e-01,\n",
       "         2.00825706e-01,  8.45734254e-02, -2.73996353e-01, -7.03271851e-02,\n",
       "         2.27052532e-02,  9.28763300e-02, -3.19047272e-01, -1.87657803e-01,\n",
       "        -2.50180095e-01,  2.93818444e-01,  5.14022052e-01, -4.98143405e-01,\n",
       "         4.43117827e-01, -1.80917606e-01, -1.94109529e-01,  8.76364261e-02,\n",
       "        -5.39826937e-02,  2.28237927e-01,  4.76320177e-01, -1.78720430e-01,\n",
       "         4.70658451e-01, -1.00635493e+00, -5.57829678e-01,  4.36228573e-01,\n",
       "         4.53709424e-01, -4.16985363e-01,  3.19211870e-01, -4.88682806e-01,\n",
       "         4.59932178e-01, -2.85361826e-01,  3.93420219e-01,  1.55352011e-01,\n",
       "        -2.27426007e-01, -5.85872754e-02, -1.10055476e-01, -2.32126564e-01,\n",
       "        -5.32276809e-01, -7.21963570e-02,  2.34087020e-01, -3.27375293e-01,\n",
       "        -9.66994017e-02,  1.29961595e-01, -3.71962994e-01, -2.79496312e-01,\n",
       "        -4.01321724e-02,  7.31559843e-03, -3.10120940e-01,  9.66832042e-02,\n",
       "        -2.85112113e-01,  3.09583366e-01, -4.99816090e-01,  6.87058985e-01,\n",
       "         4.34169918e-01, -4.91701206e-03, -8.92419755e-01, -5.03619909e-01,\n",
       "         5.71255207e-01,  5.29967397e-02,  4.89873767e-01, -1.13245584e-01,\n",
       "        -8.40859339e-02,  4.50544581e-02, -1.41576409e-01, -3.26290905e-01],\n",
       "       dtype=float32)}"
      ]
     },
     "execution_count": 133,
     "metadata": {},
     "output_type": "execute_result"
    }
   ],
   "source": [
    "sample_dataset[4]"
   ]
  },
  {
   "cell_type": "code",
   "execution_count": 134,
   "id": "881fbf51",
   "metadata": {},
   "outputs": [],
   "source": [
    "#torch.save(sample_dataset,\"cm_train.pt\")"
   ]
  },
  {
   "cell_type": "code",
   "execution_count": 12,
   "id": "acd31b38",
   "metadata": {},
   "outputs": [],
   "source": [
    "sample_dataset_new= torch.load(\"cm_train.pt\")"
   ]
  },
  {
   "cell_type": "code",
   "execution_count": 13,
   "id": "6b8dfe14",
   "metadata": {},
   "outputs": [
    {
     "data": {
      "text/plain": [
       "13910"
      ]
     },
     "execution_count": 13,
     "metadata": {},
     "output_type": "execute_result"
    }
   ],
   "source": [
    "len(sample_dataset_new)"
   ]
  },
  {
   "cell_type": "code",
   "execution_count": 14,
   "id": "4da32902",
   "metadata": {},
   "outputs": [
    {
     "data": {
      "text/plain": [
       "{'label': 1,\n",
       " 'processed_txt': array([-1.52348652e-01, -7.54387453e-02, -1.65186912e-01,  2.63631344e-01,\n",
       "         2.20908076e-01, -1.77685574e-01, -4.23201114e-01,  1.34160891e-01,\n",
       "         9.94548053e-02, -3.46936695e-02,  1.57933071e-01, -2.17930786e-02,\n",
       "         3.13578576e-01,  1.24466382e-02, -3.04684609e-01,  3.53767842e-01,\n",
       "         3.65526080e-01, -1.23490877e-01,  3.28399474e-03, -1.14590302e-02,\n",
       "        -3.43225390e-01,  1.87817276e-01, -6.19067019e-03, -1.21930800e-01,\n",
       "         5.32314658e-01, -2.31333449e-01, -1.09672010e-01,  3.25455852e-02,\n",
       "         4.23649043e-01, -1.44125357e-01, -2.86487490e-01, -1.98219806e-01,\n",
       "        -1.82634786e-01, -5.94884455e-02,  7.19535530e-01, -3.58192384e-01,\n",
       "         3.26418817e-01, -1.30252019e-01,  2.49947365e-02, -1.75835803e-01,\n",
       "         1.68119103e-01, -2.25986481e-01, -1.64066255e-01,  2.79580019e-02,\n",
       "        -2.69701838e-01, -2.12918147e-01, -3.39793414e-01, -1.27989044e-02,\n",
       "        -6.29800022e-01,  2.44532805e-03,  5.25802597e-02, -1.67397201e-01,\n",
       "        -5.55279851e-01,  2.28763252e-01, -1.97009668e-01, -1.37015060e-01,\n",
       "         4.46936876e-01,  1.74014911e-01,  3.93081550e-03, -3.74964386e-01,\n",
       "        -1.85160041e-01, -1.50998235e-01,  4.30703878e-01,  7.89114609e-02,\n",
       "        -3.09914798e-01, -1.80395097e-01,  4.11479138e-02, -1.13286003e-01,\n",
       "         9.83148813e-02,  2.34364897e-01, -1.70160294e-01,  3.90733033e-01,\n",
       "         3.82682383e-01, -1.38060808e-01,  3.99577290e-01, -1.51459705e-02,\n",
       "        -4.27879393e-01,  2.09131911e-01, -4.18656357e-02, -2.02424392e-01,\n",
       "        -4.27100062e-01, -2.53053516e-01,  2.48483777e-01, -2.69920796e-01,\n",
       "        -1.58409193e-01,  2.71096826e-01, -2.69344777e-01,  4.23858389e-02,\n",
       "        -2.04038352e-01,  1.56989485e-01, -2.15850160e-01,  2.44706109e-01,\n",
       "        -1.43585987e-02,  1.46596983e-01,  1.08000405e-01,  2.18328744e-01,\n",
       "        -2.24590465e-01, -7.61914626e-02,  1.33189470e-01,  2.38404591e-02,\n",
       "         1.63637958e-02, -3.03550541e-01,  1.98261902e-01,  1.09625064e-01,\n",
       "         3.00295621e-01, -3.11237201e-02,  3.30719352e-01,  1.17640115e-01,\n",
       "         3.99934679e-01, -4.82664436e-01, -1.40254200e-01, -1.89796835e-02,\n",
       "         2.40911156e-01, -1.68317080e-01,  6.42729178e-02,  2.20734403e-02,\n",
       "        -2.45307416e-01, -4.58103597e-01,  3.43061775e-01,  2.75370687e-01,\n",
       "        -2.87942052e-01, -8.98431689e-02, -3.38701397e-01,  3.62610549e-01,\n",
       "        -3.80156143e-03,  2.59788632e-01,  2.28271469e-01, -2.18372732e-01,\n",
       "         3.28894049e-01,  1.99158639e-01,  3.89786273e-01, -9.18750882e-01,\n",
       "        -9.19481441e-02, -1.13272712e-01,  2.01947957e-01, -4.06242877e-01,\n",
       "        -9.10985023e-02,  3.09664547e-01,  1.25046119e-01, -4.73203391e-01,\n",
       "        -3.06613326e-01,  1.49159580e-01,  8.59927908e-02,  1.54408827e-01,\n",
       "        -3.42172951e-01, -1.24582380e-01,  3.35991561e-01,  7.03117028e-02,\n",
       "        -6.96934909e-02, -2.23632261e-01, -1.95170656e-01, -1.84682176e-01,\n",
       "        -1.67622879e-01,  2.29059786e-01, -5.59377447e-02, -1.60461990e-03,\n",
       "         6.59090951e-02,  1.37702703e-01, -3.29243578e-02,  7.93567374e-02,\n",
       "         2.00096041e-01, -2.38528758e-01,  1.20976277e-01, -2.61353165e-01,\n",
       "         2.26040125e-01,  1.22908220e-01,  3.22690666e-01, -4.01666127e-02,\n",
       "         6.33932278e-02, -2.43491247e-01,  2.20654979e-01,  2.84206241e-01,\n",
       "         4.00093943e-01, -6.52796865e-01, -1.67254671e-01, -1.98801816e-01,\n",
       "        -2.10688680e-01, -1.67207077e-01,  6.35481358e-01, -2.17486471e-01,\n",
       "        -7.25128651e-01, -5.25288522e-01, -5.48574984e-01,  4.35650885e-01,\n",
       "        -2.64977038e-01, -2.71552831e-01,  5.60684323e-01, -2.41872117e-01,\n",
       "        -3.99457008e-01,  3.26305330e-01, -3.86360079e-01,  1.47881299e-01,\n",
       "         1.91077143e-01,  4.06818867e-01, -2.32366920e-01, -1.27851772e+00,\n",
       "         3.12859267e-01, -2.16171578e-01, -4.16233033e-01,  1.47677422e-01,\n",
       "        -2.75874674e-01,  5.36023617e-01, -1.90467641e-01,  4.70423102e-01,\n",
       "         2.27384433e-01,  7.92671219e-02,  6.02567673e-01,  1.14731222e-01,\n",
       "        -4.31975583e-03,  1.03838116e-01, -4.62497413e-01,  5.07365167e-01,\n",
       "         9.74704921e-02,  2.46464655e-01,  1.56042567e-02, -5.53845644e-01,\n",
       "        -5.65161824e-01, -5.97777739e-02, -3.69805574e-01,  3.64382505e-01,\n",
       "        -1.89123020e-01, -3.65449339e-01, -6.49709821e-01,  2.28943363e-01,\n",
       "        -3.49633902e-01,  2.71841109e-01,  2.27296412e-01,  2.01080710e-01,\n",
       "         3.70762974e-01, -7.25869417e-01,  2.27214977e-01,  5.11393696e-02,\n",
       "         4.23343807e-01, -1.14464253e-01,  1.63259268e-01, -4.92609531e-01,\n",
       "         4.63284627e-02, -2.77007729e-01,  1.01367701e-02,  4.59677786e-01,\n",
       "        -1.37311518e-01,  3.91297191e-02,  2.94648893e-02,  2.14317724e-01,\n",
       "        -3.61198246e-01,  1.85676023e-01,  2.81951785e-01,  1.25284582e-01,\n",
       "         3.23575102e-02,  3.52206737e-01,  3.76272649e-01, -3.10920298e-01,\n",
       "         1.28109768e-01, -1.04233138e-01,  2.69234389e-01,  6.77213445e-02,\n",
       "         3.73540744e-02, -6.63285017e-01, -3.62518460e-01, -5.57804942e-01,\n",
       "         2.30931178e-01,  7.79313445e-02, -3.54995340e-01, -3.48293573e-01,\n",
       "         4.80186157e-02, -1.98214978e-01,  5.57648957e-01, -6.59501702e-02,\n",
       "         1.18951596e-01,  2.89549828e-01, -1.48654819e-01, -9.86021087e-02,\n",
       "         1.97835103e-01,  1.41654417e-01,  1.52752951e-01,  3.01191300e-01,\n",
       "         2.37210646e-01, -4.08439301e-02,  1.27715003e-02, -4.40143235e-03,\n",
       "         2.26210788e-01,  2.68315136e-01,  5.20046651e-01, -1.11881234e-01,\n",
       "         8.80920589e-02,  1.00830734e-01, -1.47593871e-01,  3.29700947e-01,\n",
       "        -7.22321093e-01, -5.81998229e-02,  2.05973163e-01, -2.80036824e-03,\n",
       "        -1.74895212e-01,  4.16241921e-02,  4.17543054e-01,  2.71255821e-01,\n",
       "         5.88409193e-02,  3.19183588e-01, -2.31196016e-01, -2.23295122e-01,\n",
       "        -3.98525864e-01,  3.34715545e-01,  1.25897735e-01,  4.52575982e-02,\n",
       "         1.42683417e-01, -3.06069076e-01,  2.84934312e-01,  1.44927502e-01,\n",
       "         2.47457325e-01,  3.84525716e-01,  4.63293605e-02, -4.26104367e-01,\n",
       "        -3.73824328e-01,  1.44681916e-01, -2.12453291e-01, -1.69333413e-01,\n",
       "        -7.94074965e+00, -6.15066588e-01, -1.87399596e-01, -3.90921205e-01,\n",
       "        -3.39996926e-02,  2.61027426e-01,  1.91670895e-01,  2.47534979e-02,\n",
       "        -2.23497599e-01, -1.34879187e-01, -4.52932358e-01, -4.11001563e-01,\n",
       "        -3.14188600e-02, -3.46889734e-01, -3.12177911e-02, -8.62855613e-02,\n",
       "         2.59407878e-01,  2.26800367e-02,  2.38525480e-01, -1.64246395e-01,\n",
       "         3.01673800e-01, -1.10806361e-01,  1.70809194e-01, -1.65407106e-01,\n",
       "         9.27247852e-02,  1.27410322e-01, -2.29063720e-01,  6.73042089e-02,\n",
       "        -4.18997139e-01, -1.13820329e-01, -1.46181494e-01,  9.12078992e-02,\n",
       "         1.44406059e-03,  2.32647695e-02,  2.18093947e-01,  1.09626658e-01,\n",
       "        -4.38508481e-01, -2.03374743e-01,  2.55312413e-01, -2.87521660e-01,\n",
       "         9.76675302e-02, -1.61466897e-02,  3.50451499e-01, -4.66961041e-02,\n",
       "         1.56235337e-01, -2.67730743e-01, -3.42481464e-01, -2.69813746e-01,\n",
       "         1.39426008e-01, -1.50933396e-03,  1.15355998e-01, -4.48034406e-01,\n",
       "        -1.76454440e-01, -1.47129416e-01,  4.91874814e-01, -4.52650934e-02,\n",
       "        -2.94973999e-01,  1.67876184e-01,  1.65411428e-01,  1.46177739e-01,\n",
       "        -2.17563838e-01,  3.26503396e-01, -9.51942652e-02, -1.29082769e-01,\n",
       "         1.39236242e-01,  9.76648256e-02, -2.89287806e-01, -1.95696414e-01,\n",
       "        -4.37743992e-01,  1.11588860e+00, -7.27993250e-02,  1.16946407e-01,\n",
       "        -3.94273043e-01, -3.19241583e-01,  1.84096619e-01, -2.47860834e-01,\n",
       "        -4.05255437e-01, -6.28020093e-02,  3.38482969e-02,  3.54182154e-01,\n",
       "         3.05150330e-01, -5.74991167e-01,  2.50686407e-01,  8.55643973e-02,\n",
       "        -5.14799416e-01, -3.35796654e-01,  6.48090184e-01, -7.14865029e-02,\n",
       "         1.23019531e-01, -2.48695135e-01, -3.76843929e-01,  1.09045908e-01,\n",
       "         4.84092772e-01,  4.32553709e-01, -1.58405751e-01,  4.02801633e-01,\n",
       "         1.26144886e-01, -8.46815526e-01, -3.34626883e-01,  4.62527961e-01,\n",
       "         3.34587812e-01, -3.01537991e-01, -1.06520325e-01,  3.39806139e-01,\n",
       "         1.81679189e-01,  4.91434745e-02,  3.26206595e-01,  2.26994663e-01,\n",
       "        -4.46683288e-01,  6.85441941e-02,  5.58359772e-02,  1.33791670e-01,\n",
       "         3.24020565e-01, -1.68857500e-01, -2.50090569e-01, -1.58194005e-01,\n",
       "         1.80752203e-01, -5.57915509e-01,  1.99769780e-01,  2.75872856e-01,\n",
       "        -4.11953777e-02,  2.16474961e-02,  4.02791232e-01, -1.78232357e-01,\n",
       "         7.48927784e+00, -4.96820599e-01, -1.21523499e-01,  4.74948376e-01,\n",
       "         2.15358615e-01, -2.56382167e-01,  1.53432071e-01,  5.80454469e-01,\n",
       "         2.58281469e-01,  1.52901173e-01, -4.18306440e-01,  3.68622929e-01,\n",
       "         1.18407018e-01, -4.55016121e-02, -2.61941314e-01,  4.46186602e-01,\n",
       "        -3.78342941e-02, -1.55334696e-01,  7.46510923e-02,  6.70801327e-02,\n",
       "         3.96617591e-01, -3.43825743e-02, -3.62199336e-01,  8.38125944e-01,\n",
       "        -6.09553277e-01,  2.58928649e-02, -1.77397907e-01, -6.26733184e-01,\n",
       "        -1.58685341e-01,  1.18080400e-01,  1.27589047e-01,  5.59208930e-01,\n",
       "        -5.16336024e-01, -1.21759579e-01,  4.36526150e-01,  4.13465738e-01,\n",
       "        -1.64529532e-01, -4.15885478e-01, -3.76300305e-01, -2.44899675e-01,\n",
       "        -2.17768818e-01, -8.36327076e-02, -6.94007650e-02, -1.24518663e-01,\n",
       "         1.06169209e-01,  4.06929910e-01, -4.74747270e-01, -2.90783029e-02,\n",
       "        -7.28767216e-02, -4.31495637e-01,  1.03653729e-01, -2.95995325e-01,\n",
       "        -9.52237070e-01,  7.01151118e-02,  7.16022909e-01, -1.29194614e-02,\n",
       "        -1.38439611e-01,  3.10406327e-01,  1.38464808e-01, -7.20578134e-02,\n",
       "        -6.31935447e-02, -4.81728464e-01, -7.14040101e-01,  2.11546104e-02,\n",
       "         1.68091372e-01, -3.29773128e-01,  1.01595722e-01, -5.67739606e-01,\n",
       "         1.23574391e-01, -1.65887505e-01,  2.32898332e-02, -2.84387469e-01,\n",
       "        -3.22725952e-01, -1.97204784e-01,  3.17257404e-01, -1.91881470e-02,\n",
       "        -6.16015792e-01,  3.19519006e-02,  2.33477056e-01, -7.24879652e-02,\n",
       "         2.15773985e-01, -2.28550518e-03,  1.42119735e-01, -3.35382707e-02,\n",
       "         5.43118753e-02,  5.92338927e-02, -2.28283599e-01,  3.25044155e-01,\n",
       "         8.29242021e-02, -1.43684015e-01,  3.00126635e-02, -4.62890491e-02,\n",
       "         2.12001070e-01,  2.74408888e-02, -5.12618840e-01, -8.24371129e-02,\n",
       "         2.80775607e-01,  2.99816608e-01,  1.08526148e-01, -3.05336088e-01,\n",
       "         1.39360309e-01,  1.08991647e+00, -7.00437367e-01,  2.34556988e-01,\n",
       "        -2.42271200e-01,  1.70286223e-01,  3.17163855e-01,  2.45996848e-01,\n",
       "         3.85419220e-01, -1.55034736e-01, -7.06114233e-01, -4.23721880e-01,\n",
       "        -1.50286825e-02, -3.37627351e-01, -6.88496113e-01, -1.54669970e-01,\n",
       "        -4.46563177e-02,  1.61435649e-01,  1.76928062e-02, -2.85870135e-02,\n",
       "         2.02658460e-01,  2.43254274e-01, -2.12989431e-02, -1.76731616e-01,\n",
       "        -8.02696347e-01, -3.63211513e-01,  3.16261232e-01,  3.38679045e-01,\n",
       "         1.24294110e-01,  1.80287570e-01,  3.25906128e-01,  7.34228432e-01,\n",
       "        -1.63021147e-01,  2.53682107e-01, -2.34885156e-01,  2.49405190e-01,\n",
       "         1.40891122e-02,  3.46182019e-01, -2.75467604e-01,  1.83661640e-01,\n",
       "         1.77401751e-01,  2.56706297e-01, -1.24397129e-01, -1.95550725e-01,\n",
       "         5.48571706e-01, -2.64249325e-01,  3.71877491e-01,  1.45861521e-01,\n",
       "         3.06833237e-01, -5.18527746e-01,  1.66829914e-01,  3.37134540e-01,\n",
       "         1.70626044e-01,  2.70171583e-01, -1.95918322e-01, -3.27048481e-01,\n",
       "         1.13558054e-01, -2.41564363e-01,  4.83923614e-01,  1.85814649e-01,\n",
       "        -1.53869435e-01,  1.68489650e-01, -1.74726211e-02, -2.43168741e-01,\n",
       "        -3.59221071e-01, -3.60236257e-01,  3.45328718e-01,  1.98245928e-01,\n",
       "         5.17597258e-01, -2.35684570e-02, -6.84368536e-02,  5.18672109e-01,\n",
       "         6.86280131e-02, -6.32571340e-01, -1.32232144e-01, -1.10972382e-01,\n",
       "        -4.08603810e-03, -1.28984725e+00,  1.06259853e-01,  2.41173804e-01,\n",
       "        -8.78174417e-03,  1.64133590e-03,  1.73949301e-01,  1.75081193e-01,\n",
       "        -1.52461603e-01,  4.40369904e-01, -6.10699832e-01, -1.08522728e-01,\n",
       "        -2.77547240e-01,  1.64377198e-01,  4.16378677e-02,  3.01992357e-01,\n",
       "        -2.70885944e-01,  1.51697740e-01,  1.57039538e-01,  4.36360806e-01,\n",
       "        -8.94421563e-02, -4.76843268e-01,  8.99673551e-02,  2.73456052e-02,\n",
       "         2.57336020e-01, -2.82012463e-01, -2.54421651e-01,  3.51367027e-01,\n",
       "         8.42539907e-01,  3.81732322e-02,  3.56449962e-01, -2.02878080e-02,\n",
       "        -6.23010814e-01,  5.34882881e-02,  1.77001938e-01, -3.53028655e-01,\n",
       "        -2.89488465e-01, -1.56007841e-01, -2.86746055e-01,  3.31370682e-01,\n",
       "        -2.31300384e-01, -4.28270787e-01,  1.39063895e-01,  2.07923144e-01,\n",
       "        -1.30206458e-02, -1.21419795e-01,  1.46226659e-01, -2.86583394e-01,\n",
       "        -1.50550455e-02,  3.10558885e-01, -4.14950810e-02,  7.42183805e-01,\n",
       "         4.22238439e-01,  7.21391022e-01,  2.80954540e-01, -9.24544632e-02,\n",
       "        -2.38552287e-01, -6.10348508e-02,  9.94391143e-02, -3.41443092e-01,\n",
       "        -3.58188227e-02,  1.74637347e-01, -1.82759181e-01,  4.40005481e-01,\n",
       "         2.48247474e-01, -6.22841120e-01,  1.51897699e-01, -8.71074721e-02,\n",
       "         1.05541512e-01, -1.23560846e-01,  2.63398349e-01, -4.78883654e-01,\n",
       "         1.88999083e-02, -7.09999427e-02, -3.41791064e-01, -1.12202883e-01,\n",
       "         3.42769176e-01, -1.93459883e-01, -1.84404209e-01,  3.50360990e-01,\n",
       "        -7.24291848e-03,  2.16859818e-01, -1.98765129e-01,  1.33959487e-01,\n",
       "        -3.65265310e-01, -9.60680842e-02,  9.19690430e-02, -9.46077943e-01,\n",
       "         2.00825706e-01,  8.45734254e-02, -2.73996353e-01, -7.03271851e-02,\n",
       "         2.27052532e-02,  9.28763300e-02, -3.19047272e-01, -1.87657803e-01,\n",
       "        -2.50180095e-01,  2.93818444e-01,  5.14022052e-01, -4.98143405e-01,\n",
       "         4.43117827e-01, -1.80917606e-01, -1.94109529e-01,  8.76364261e-02,\n",
       "        -5.39826937e-02,  2.28237927e-01,  4.76320177e-01, -1.78720430e-01,\n",
       "         4.70658451e-01, -1.00635493e+00, -5.57829678e-01,  4.36228573e-01,\n",
       "         4.53709424e-01, -4.16985363e-01,  3.19211870e-01, -4.88682806e-01,\n",
       "         4.59932178e-01, -2.85361826e-01,  3.93420219e-01,  1.55352011e-01,\n",
       "        -2.27426007e-01, -5.85872754e-02, -1.10055476e-01, -2.32126564e-01,\n",
       "        -5.32276809e-01, -7.21963570e-02,  2.34087020e-01, -3.27375293e-01,\n",
       "        -9.66994017e-02,  1.29961595e-01, -3.71962994e-01, -2.79496312e-01,\n",
       "        -4.01321724e-02,  7.31559843e-03, -3.10120940e-01,  9.66832042e-02,\n",
       "        -2.85112113e-01,  3.09583366e-01, -4.99816090e-01,  6.87058985e-01,\n",
       "         4.34169918e-01, -4.91701206e-03, -8.92419755e-01, -5.03619909e-01,\n",
       "         5.71255207e-01,  5.29967397e-02,  4.89873767e-01, -1.13245584e-01,\n",
       "        -8.40859339e-02,  4.50544581e-02, -1.41576409e-01, -3.26290905e-01],\n",
       "       dtype=float32)}"
      ]
     },
     "execution_count": 14,
     "metadata": {},
     "output_type": "execute_result"
    }
   ],
   "source": [
    "sample_dataset_new[4]"
   ]
  },
  {
   "cell_type": "code",
   "execution_count": 15,
   "id": "a48cb369",
   "metadata": {},
   "outputs": [],
   "source": [
    "# torch.manual_seed(123)\n",
    "# t_p,v_p = torch.utils.data.random_split(sample_dataset_new,[73897,8212])\n",
    "\n",
    "# # torch.manual_seed(123)\n",
    "# t_p,te_p = torch.utils.data.random_split(t_p,[59197,14700])"
   ]
  },
  {
   "cell_type": "code",
   "execution_count": 16,
   "id": "5700262c",
   "metadata": {},
   "outputs": [],
   "source": [
    "torch.manual_seed(123)\n",
    "t_p,v_p = torch.utils.data.random_split(sample_dataset_new,[13000,910])\n",
    "\n",
    "# torch.manual_seed(123)\n",
    "t_p,te_p = torch.utils.data.random_split(t_p,[10500,2500])"
   ]
  },
  {
   "cell_type": "code",
   "execution_count": 17,
   "id": "11bcdc89",
   "metadata": {},
   "outputs": [],
   "source": [
    "from distutils.version import LooseVersion, StrictVersion"
   ]
  },
  {
   "cell_type": "code",
   "execution_count": 18,
   "id": "972f9b5b",
   "metadata": {},
   "outputs": [
    {
     "name": "stderr",
     "output_type": "stream",
     "text": [
      "Global seed set to 42\n",
      "/DATA/atul_2221cs20/anaconda3/envs/jitu/lib/python3.7/site-packages/pytorch_lightning/trainer/connectors/accelerator_connector.py:479: LightningDeprecationWarning: Setting `Trainer(gpus=1)` is deprecated in v1.7 and will be removed in v2.0. Please use `Trainer(accelerator='gpu', devices=1)` instead.\n",
      "  f\"Setting `Trainer(gpus={gpus!r})` is deprecated in v1.7 and will be removed\"\n",
      "Using 16bit None Automatic Mixed Precision (AMP)\n",
      "GPU available: True (cuda), used: True\n",
      "TPU available: False, using: 0 TPU cores\n",
      "IPU available: False, using: 0 IPUs\n",
      "HPU available: False, using: 0 HPUs\n",
      "/DATA/atul_2221cs20/anaconda3/envs/jitu/lib/python3.7/site-packages/pytorch_lightning/callbacks/model_checkpoint.py:613: UserWarning: Checkpoint directory /DATA/atul_2221cs20/jitendra/New_model/dehate exists and is not empty.\n",
      "  rank_zero_warn(f\"Checkpoint directory {dirpath} exists and is not empty.\")\n",
      "LOCAL_RANK: 0 - CUDA_VISIBLE_DEVICES: [2]\n",
      "\n",
      "  | Name                | Type    | Params\n",
      "------------------------------------------------\n",
      "0 | text_processor      | Linear  | 196 K \n",
      "1 | image_processor     | Linear  | 131 K \n",
      "2 | combined_processor  | Linear  | 1.0 K \n",
      "3 | text_only_processor | Linear  | 514   \n",
      "4 | dropout             | Dropout | 0     \n",
      "5 | activation          | ReLU    | 0     \n",
      "------------------------------------------------\n",
      "329 K     Trainable params\n",
      "0         Non-trainable params\n",
      "329 K     Total params\n",
      "0.659     Total estimated model params size (MB)\n"
     ]
    },
    {
     "data": {
      "application/vnd.jupyter.widget-view+json": {
       "model_id": "",
       "version_major": 2,
       "version_minor": 0
      },
      "text/plain": [
       "Sanity Checking: 0it [00:00, ?it/s]"
      ]
     },
     "metadata": {},
     "output_type": "display_data"
    },
    {
     "name": "stdout",
     "output_type": "stream",
     "text": [
      "***val_acc_all_offn at epoch end 0.4296875****\n",
      "***val_f1 offensive at epoch end 0.4145299145299145****\n"
     ]
    },
    {
     "name": "stderr",
     "output_type": "stream",
     "text": [
      "/DATA/atul_2221cs20/anaconda3/envs/jitu/lib/python3.7/site-packages/pytorch_lightning/trainer/connectors/data_connector.py:229: PossibleUserWarning: The dataloader, val_dataloader 0, does not have many workers which may be a bottleneck. Consider increasing the value of the `num_workers` argument` (try 64 which is the number of cpus on this machine) in the `DataLoader` init to improve performance.\n",
      "  category=PossibleUserWarning,\n",
      "/DATA/atul_2221cs20/anaconda3/envs/jitu/lib/python3.7/site-packages/pytorch_lightning/trainer/connectors/data_connector.py:229: PossibleUserWarning: The dataloader, train_dataloader, does not have many workers which may be a bottleneck. Consider increasing the value of the `num_workers` argument` (try 64 which is the number of cpus on this machine) in the `DataLoader` init to improve performance.\n",
      "  category=PossibleUserWarning,\n"
     ]
    },
    {
     "data": {
      "application/vnd.jupyter.widget-view+json": {
       "model_id": "436c5b98fa5a4589a525049e3159d25c",
       "version_major": 2,
       "version_minor": 0
      },
      "text/plain": [
       "Training: 0it [00:00, ?it/s]"
      ]
     },
     "metadata": {},
     "output_type": "display_data"
    },
    {
     "data": {
      "application/vnd.jupyter.widget-view+json": {
       "model_id": "",
       "version_major": 2,
       "version_minor": 0
      },
      "text/plain": [
       "Validation: 0it [00:00, ?it/s]"
      ]
     },
     "metadata": {},
     "output_type": "display_data"
    },
    {
     "name": "stdout",
     "output_type": "stream",
     "text": [
      "***val_acc_all_offn at epoch end 0.5558035714285714****\n",
      "***val_f1 offensive at epoch end 0.4331872693453031****\n"
     ]
    },
    {
     "data": {
      "application/vnd.jupyter.widget-view+json": {
       "model_id": "",
       "version_major": 2,
       "version_minor": 0
      },
      "text/plain": [
       "Validation: 0it [00:00, ?it/s]"
      ]
     },
     "metadata": {},
     "output_type": "display_data"
    },
    {
     "name": "stdout",
     "output_type": "stream",
     "text": [
      "***val_acc_all_offn at epoch end 0.5904017857142857****\n",
      "***val_f1 offensive at epoch end 0.5313096888983403****\n"
     ]
    },
    {
     "data": {
      "application/vnd.jupyter.widget-view+json": {
       "model_id": "",
       "version_major": 2,
       "version_minor": 0
      },
      "text/plain": [
       "Validation: 0it [00:00, ?it/s]"
      ]
     },
     "metadata": {},
     "output_type": "display_data"
    },
    {
     "name": "stdout",
     "output_type": "stream",
     "text": [
      "***val_acc_all_offn at epoch end 0.6149553571428571****\n",
      "***val_f1 offensive at epoch end 0.5816192591311314****\n"
     ]
    },
    {
     "data": {
      "application/vnd.jupyter.widget-view+json": {
       "model_id": "",
       "version_major": 2,
       "version_minor": 0
      },
      "text/plain": [
       "Validation: 0it [00:00, ?it/s]"
      ]
     },
     "metadata": {},
     "output_type": "display_data"
    },
    {
     "name": "stdout",
     "output_type": "stream",
     "text": [
      "***val_acc_all_offn at epoch end 0.6261160714285714****\n",
      "***val_f1 offensive at epoch end 0.602183097121409****\n"
     ]
    },
    {
     "data": {
      "application/vnd.jupyter.widget-view+json": {
       "model_id": "",
       "version_major": 2,
       "version_minor": 0
      },
      "text/plain": [
       "Validation: 0it [00:00, ?it/s]"
      ]
     },
     "metadata": {},
     "output_type": "display_data"
    },
    {
     "name": "stdout",
     "output_type": "stream",
     "text": [
      "***val_acc_all_offn at epoch end 0.6417410714285714****\n",
      "***val_f1 offensive at epoch end 0.6255324359960246****\n"
     ]
    },
    {
     "data": {
      "application/vnd.jupyter.widget-view+json": {
       "model_id": "",
       "version_major": 2,
       "version_minor": 0
      },
      "text/plain": [
       "Validation: 0it [00:00, ?it/s]"
      ]
     },
     "metadata": {},
     "output_type": "display_data"
    },
    {
     "name": "stdout",
     "output_type": "stream",
     "text": [
      "***val_acc_all_offn at epoch end 0.640625****\n",
      "***val_f1 offensive at epoch end 0.6266073524350969****\n"
     ]
    },
    {
     "data": {
      "application/vnd.jupyter.widget-view+json": {
       "model_id": "",
       "version_major": 2,
       "version_minor": 0
      },
      "text/plain": [
       "Validation: 0it [00:00, ?it/s]"
      ]
     },
     "metadata": {},
     "output_type": "display_data"
    },
    {
     "name": "stdout",
     "output_type": "stream",
     "text": [
      "***val_acc_all_offn at epoch end 0.6450892857142857****\n",
      "***val_f1 offensive at epoch end 0.6327684233065893****\n"
     ]
    },
    {
     "data": {
      "application/vnd.jupyter.widget-view+json": {
       "model_id": "",
       "version_major": 2,
       "version_minor": 0
      },
      "text/plain": [
       "Validation: 0it [00:00, ?it/s]"
      ]
     },
     "metadata": {},
     "output_type": "display_data"
    },
    {
     "name": "stdout",
     "output_type": "stream",
     "text": [
      "***val_acc_all_offn at epoch end 0.6462053571428571****\n",
      "***val_f1 offensive at epoch end 0.6350671340062074****\n"
     ]
    },
    {
     "data": {
      "application/vnd.jupyter.widget-view+json": {
       "model_id": "",
       "version_major": 2,
       "version_minor": 0
      },
      "text/plain": [
       "Validation: 0it [00:00, ?it/s]"
      ]
     },
     "metadata": {},
     "output_type": "display_data"
    },
    {
     "name": "stdout",
     "output_type": "stream",
     "text": [
      "***val_acc_all_offn at epoch end 0.6495535714285714****\n",
      "***val_f1 offensive at epoch end 0.6399560242241424****\n"
     ]
    },
    {
     "data": {
      "application/vnd.jupyter.widget-view+json": {
       "model_id": "",
       "version_major": 2,
       "version_minor": 0
      },
      "text/plain": [
       "Validation: 0it [00:00, ?it/s]"
      ]
     },
     "metadata": {},
     "output_type": "display_data"
    },
    {
     "name": "stdout",
     "output_type": "stream",
     "text": [
      "***val_acc_all_offn at epoch end 0.6495535714285714****\n",
      "***val_f1 offensive at epoch end 0.640502269499479****\n"
     ]
    },
    {
     "data": {
      "application/vnd.jupyter.widget-view+json": {
       "model_id": "",
       "version_major": 2,
       "version_minor": 0
      },
      "text/plain": [
       "Validation: 0it [00:00, ?it/s]"
      ]
     },
     "metadata": {},
     "output_type": "display_data"
    },
    {
     "name": "stdout",
     "output_type": "stream",
     "text": [
      "***val_acc_all_offn at epoch end 0.6551339285714286****\n",
      "***val_f1 offensive at epoch end 0.6467815612330473****\n"
     ]
    },
    {
     "data": {
      "application/vnd.jupyter.widget-view+json": {
       "model_id": "",
       "version_major": 2,
       "version_minor": 0
      },
      "text/plain": [
       "Validation: 0it [00:00, ?it/s]"
      ]
     },
     "metadata": {},
     "output_type": "display_data"
    },
    {
     "name": "stdout",
     "output_type": "stream",
     "text": [
      "***val_acc_all_offn at epoch end 0.6551339285714286****\n",
      "***val_f1 offensive at epoch end 0.647318532341145****\n"
     ]
    },
    {
     "data": {
      "application/vnd.jupyter.widget-view+json": {
       "model_id": "",
       "version_major": 2,
       "version_minor": 0
      },
      "text/plain": [
       "Validation: 0it [00:00, ?it/s]"
      ]
     },
     "metadata": {},
     "output_type": "display_data"
    },
    {
     "name": "stdout",
     "output_type": "stream",
     "text": [
      "***val_acc_all_offn at epoch end 0.6540178571428571****\n",
      "***val_f1 offensive at epoch end 0.6470395518754398****\n"
     ]
    },
    {
     "data": {
      "application/vnd.jupyter.widget-view+json": {
       "model_id": "",
       "version_major": 2,
       "version_minor": 0
      },
      "text/plain": [
       "Validation: 0it [00:00, ?it/s]"
      ]
     },
     "metadata": {},
     "output_type": "display_data"
    },
    {
     "name": "stdout",
     "output_type": "stream",
     "text": [
      "***val_acc_all_offn at epoch end 0.6540178571428571****\n",
      "***val_f1 offensive at epoch end 0.6472348018151253****\n"
     ]
    },
    {
     "data": {
      "application/vnd.jupyter.widget-view+json": {
       "model_id": "",
       "version_major": 2,
       "version_minor": 0
      },
      "text/plain": [
       "Validation: 0it [00:00, ?it/s]"
      ]
     },
     "metadata": {},
     "output_type": "display_data"
    },
    {
     "name": "stdout",
     "output_type": "stream",
     "text": [
      "***val_acc_all_offn at epoch end 0.6540178571428571****\n",
      "***val_f1 offensive at epoch end 0.6479524027941795****\n"
     ]
    },
    {
     "data": {
      "application/vnd.jupyter.widget-view+json": {
       "model_id": "",
       "version_major": 2,
       "version_minor": 0
      },
      "text/plain": [
       "Validation: 0it [00:00, ?it/s]"
      ]
     },
     "metadata": {},
     "output_type": "display_data"
    },
    {
     "name": "stdout",
     "output_type": "stream",
     "text": [
      "***val_acc_all_offn at epoch end 0.65625****\n",
      "***val_f1 offensive at epoch end 0.6498092463347858****\n"
     ]
    },
    {
     "data": {
      "application/vnd.jupyter.widget-view+json": {
       "model_id": "",
       "version_major": 2,
       "version_minor": 0
      },
      "text/plain": [
       "Validation: 0it [00:00, ?it/s]"
      ]
     },
     "metadata": {},
     "output_type": "display_data"
    },
    {
     "name": "stdout",
     "output_type": "stream",
     "text": [
      "***val_acc_all_offn at epoch end 0.6551339285714286****\n",
      "***val_f1 offensive at epoch end 0.648492377458158****\n"
     ]
    },
    {
     "data": {
      "application/vnd.jupyter.widget-view+json": {
       "model_id": "",
       "version_major": 2,
       "version_minor": 0
      },
      "text/plain": [
       "Validation: 0it [00:00, ?it/s]"
      ]
     },
     "metadata": {},
     "output_type": "display_data"
    },
    {
     "name": "stdout",
     "output_type": "stream",
     "text": [
      "***val_acc_all_offn at epoch end 0.6551339285714286****\n",
      "***val_f1 offensive at epoch end 0.6488400037165597****\n"
     ]
    },
    {
     "data": {
      "application/vnd.jupyter.widget-view+json": {
       "model_id": "",
       "version_major": 2,
       "version_minor": 0
      },
      "text/plain": [
       "Validation: 0it [00:00, ?it/s]"
      ]
     },
     "metadata": {},
     "output_type": "display_data"
    },
    {
     "name": "stdout",
     "output_type": "stream",
     "text": [
      "***val_acc_all_offn at epoch end 0.65625****\n",
      "***val_f1 offensive at epoch end 0.650291518798255****\n"
     ]
    },
    {
     "data": {
      "application/vnd.jupyter.widget-view+json": {
       "model_id": "",
       "version_major": 2,
       "version_minor": 0
      },
      "text/plain": [
       "Validation: 0it [00:00, ?it/s]"
      ]
     },
     "metadata": {},
     "output_type": "display_data"
    },
    {
     "name": "stdout",
     "output_type": "stream",
     "text": [
      "***val_acc_all_offn at epoch end 0.6573660714285714****\n",
      "***val_f1 offensive at epoch end 0.6517723996502723****\n"
     ]
    },
    {
     "data": {
      "application/vnd.jupyter.widget-view+json": {
       "model_id": "",
       "version_major": 2,
       "version_minor": 0
      },
      "text/plain": [
       "Validation: 0it [00:00, ?it/s]"
      ]
     },
     "metadata": {},
     "output_type": "display_data"
    },
    {
     "name": "stdout",
     "output_type": "stream",
     "text": [
      "***val_acc_all_offn at epoch end 0.65625****\n",
      "***val_f1 offensive at epoch end 0.6510380655082553****\n"
     ]
    },
    {
     "data": {
      "application/vnd.jupyter.widget-view+json": {
       "model_id": "",
       "version_major": 2,
       "version_minor": 0
      },
      "text/plain": [
       "Validation: 0it [00:00, ?it/s]"
      ]
     },
     "metadata": {},
     "output_type": "display_data"
    },
    {
     "name": "stdout",
     "output_type": "stream",
     "text": [
      "***val_acc_all_offn at epoch end 0.6607142857142857****\n",
      "***val_f1 offensive at epoch end 0.6551600762009013****\n"
     ]
    },
    {
     "data": {
      "application/vnd.jupyter.widget-view+json": {
       "model_id": "",
       "version_major": 2,
       "version_minor": 0
      },
      "text/plain": [
       "Validation: 0it [00:00, ?it/s]"
      ]
     },
     "metadata": {},
     "output_type": "display_data"
    },
    {
     "name": "stdout",
     "output_type": "stream",
     "text": [
      "***val_acc_all_offn at epoch end 0.6584821428571429****\n",
      "***val_f1 offensive at epoch end 0.6529307185028391****\n"
     ]
    },
    {
     "data": {
      "application/vnd.jupyter.widget-view+json": {
       "model_id": "",
       "version_major": 2,
       "version_minor": 0
      },
      "text/plain": [
       "Validation: 0it [00:00, ?it/s]"
      ]
     },
     "metadata": {},
     "output_type": "display_data"
    },
    {
     "name": "stdout",
     "output_type": "stream",
     "text": [
      "***val_acc_all_offn at epoch end 0.6595982142857143****\n",
      "***val_f1 offensive at epoch end 0.6543162254970446****\n"
     ]
    },
    {
     "data": {
      "application/vnd.jupyter.widget-view+json": {
       "model_id": "",
       "version_major": 2,
       "version_minor": 0
      },
      "text/plain": [
       "Validation: 0it [00:00, ?it/s]"
      ]
     },
     "metadata": {},
     "output_type": "display_data"
    },
    {
     "name": "stdout",
     "output_type": "stream",
     "text": [
      "***val_acc_all_offn at epoch end 0.6640625****\n",
      "***val_f1 offensive at epoch end 0.6591175925347085****\n"
     ]
    },
    {
     "data": {
      "application/vnd.jupyter.widget-view+json": {
       "model_id": "",
       "version_major": 2,
       "version_minor": 0
      },
      "text/plain": [
       "Validation: 0it [00:00, ?it/s]"
      ]
     },
     "metadata": {},
     "output_type": "display_data"
    },
    {
     "name": "stdout",
     "output_type": "stream",
     "text": [
      "***val_acc_all_offn at epoch end 0.6674107142857143****\n",
      "***val_f1 offensive at epoch end 0.662950948960283****\n"
     ]
    },
    {
     "data": {
      "application/vnd.jupyter.widget-view+json": {
       "model_id": "",
       "version_major": 2,
       "version_minor": 0
      },
      "text/plain": [
       "Validation: 0it [00:00, ?it/s]"
      ]
     },
     "metadata": {},
     "output_type": "display_data"
    },
    {
     "name": "stdout",
     "output_type": "stream",
     "text": [
      "***val_acc_all_offn at epoch end 0.6674107142857143****\n",
      "***val_f1 offensive at epoch end 0.6630793058240118****\n"
     ]
    },
    {
     "data": {
      "application/vnd.jupyter.widget-view+json": {
       "model_id": "",
       "version_major": 2,
       "version_minor": 0
      },
      "text/plain": [
       "Validation: 0it [00:00, ?it/s]"
      ]
     },
     "metadata": {},
     "output_type": "display_data"
    },
    {
     "name": "stdout",
     "output_type": "stream",
     "text": [
      "***val_acc_all_offn at epoch end 0.6685267857142857****\n",
      "***val_f1 offensive at epoch end 0.6641204609818183****\n"
     ]
    },
    {
     "data": {
      "application/vnd.jupyter.widget-view+json": {
       "model_id": "",
       "version_major": 2,
       "version_minor": 0
      },
      "text/plain": [
       "Validation: 0it [00:00, ?it/s]"
      ]
     },
     "metadata": {},
     "output_type": "display_data"
    },
    {
     "name": "stdout",
     "output_type": "stream",
     "text": [
      "***val_acc_all_offn at epoch end 0.6662946428571429****\n",
      "***val_f1 offensive at epoch end 0.662183997735157****\n"
     ]
    },
    {
     "data": {
      "application/vnd.jupyter.widget-view+json": {
       "model_id": "",
       "version_major": 2,
       "version_minor": 0
      },
      "text/plain": [
       "Validation: 0it [00:00, ?it/s]"
      ]
     },
     "metadata": {},
     "output_type": "display_data"
    },
    {
     "name": "stdout",
     "output_type": "stream",
     "text": [
      "***val_acc_all_offn at epoch end 0.6662946428571429****\n",
      "***val_f1 offensive at epoch end 0.6622186832644025****\n"
     ]
    },
    {
     "data": {
      "application/vnd.jupyter.widget-view+json": {
       "model_id": "",
       "version_major": 2,
       "version_minor": 0
      },
      "text/plain": [
       "Validation: 0it [00:00, ?it/s]"
      ]
     },
     "metadata": {},
     "output_type": "display_data"
    },
    {
     "name": "stdout",
     "output_type": "stream",
     "text": [
      "***val_acc_all_offn at epoch end 0.6662946428571429****\n",
      "***val_f1 offensive at epoch end 0.6621836492544971****\n"
     ]
    },
    {
     "data": {
      "application/vnd.jupyter.widget-view+json": {
       "model_id": "",
       "version_major": 2,
       "version_minor": 0
      },
      "text/plain": [
       "Validation: 0it [00:00, ?it/s]"
      ]
     },
     "metadata": {},
     "output_type": "display_data"
    },
    {
     "name": "stdout",
     "output_type": "stream",
     "text": [
      "***val_acc_all_offn at epoch end 0.6651785714285714****\n",
      "***val_f1 offensive at epoch end 0.6611024590531632****\n"
     ]
    },
    {
     "data": {
      "application/vnd.jupyter.widget-view+json": {
       "model_id": "",
       "version_major": 2,
       "version_minor": 0
      },
      "text/plain": [
       "Validation: 0it [00:00, ?it/s]"
      ]
     },
     "metadata": {},
     "output_type": "display_data"
    },
    {
     "name": "stdout",
     "output_type": "stream",
     "text": [
      "***val_acc_all_offn at epoch end 0.6640625****\n",
      "***val_f1 offensive at epoch end 0.6600385951548379****\n"
     ]
    },
    {
     "data": {
      "application/vnd.jupyter.widget-view+json": {
       "model_id": "",
       "version_major": 2,
       "version_minor": 0
      },
      "text/plain": [
       "Validation: 0it [00:00, ?it/s]"
      ]
     },
     "metadata": {},
     "output_type": "display_data"
    },
    {
     "name": "stdout",
     "output_type": "stream",
     "text": [
      "***val_acc_all_offn at epoch end 0.6618303571428571****\n",
      "***val_f1 offensive at epoch end 0.6582192677740674****\n"
     ]
    },
    {
     "data": {
      "application/vnd.jupyter.widget-view+json": {
       "model_id": "",
       "version_major": 2,
       "version_minor": 0
      },
      "text/plain": [
       "Validation: 0it [00:00, ?it/s]"
      ]
     },
     "metadata": {},
     "output_type": "display_data"
    },
    {
     "name": "stdout",
     "output_type": "stream",
     "text": [
      "***val_acc_all_offn at epoch end 0.6618303571428571****\n",
      "***val_f1 offensive at epoch end 0.6582192677740674****\n"
     ]
    },
    {
     "data": {
      "application/vnd.jupyter.widget-view+json": {
       "model_id": "",
       "version_major": 2,
       "version_minor": 0
      },
      "text/plain": [
       "Validation: 0it [00:00, ?it/s]"
      ]
     },
     "metadata": {},
     "output_type": "display_data"
    },
    {
     "name": "stdout",
     "output_type": "stream",
     "text": [
      "***val_acc_all_offn at epoch end 0.6595982142857143****\n",
      "***val_f1 offensive at epoch end 0.6559574012915349****\n"
     ]
    },
    {
     "data": {
      "application/vnd.jupyter.widget-view+json": {
       "model_id": "",
       "version_major": 2,
       "version_minor": 0
      },
      "text/plain": [
       "Validation: 0it [00:00, ?it/s]"
      ]
     },
     "metadata": {},
     "output_type": "display_data"
    },
    {
     "name": "stdout",
     "output_type": "stream",
     "text": [
      "***val_acc_all_offn at epoch end 0.6618303571428571****\n",
      "***val_f1 offensive at epoch end 0.6586372145570152****\n"
     ]
    },
    {
     "data": {
      "application/vnd.jupyter.widget-view+json": {
       "model_id": "",
       "version_major": 2,
       "version_minor": 0
      },
      "text/plain": [
       "Validation: 0it [00:00, ?it/s]"
      ]
     },
     "metadata": {},
     "output_type": "display_data"
    },
    {
     "name": "stdout",
     "output_type": "stream",
     "text": [
      "***val_acc_all_offn at epoch end 0.6629464285714286****\n",
      "***val_f1 offensive at epoch end 0.6596605943673233****\n"
     ]
    },
    {
     "data": {
      "application/vnd.jupyter.widget-view+json": {
       "model_id": "",
       "version_major": 2,
       "version_minor": 0
      },
      "text/plain": [
       "Validation: 0it [00:00, ?it/s]"
      ]
     },
     "metadata": {},
     "output_type": "display_data"
    },
    {
     "name": "stdout",
     "output_type": "stream",
     "text": [
      "***val_acc_all_offn at epoch end 0.6595982142857143****\n",
      "***val_f1 offensive at epoch end 0.6560770765784719****\n"
     ]
    },
    {
     "data": {
      "application/vnd.jupyter.widget-view+json": {
       "model_id": "",
       "version_major": 2,
       "version_minor": 0
      },
      "text/plain": [
       "Validation: 0it [00:00, ?it/s]"
      ]
     },
     "metadata": {},
     "output_type": "display_data"
    },
    {
     "name": "stdout",
     "output_type": "stream",
     "text": [
      "***val_acc_all_offn at epoch end 0.6595982142857143****\n",
      "***val_f1 offensive at epoch end 0.6560770765784719****\n"
     ]
    },
    {
     "data": {
      "application/vnd.jupyter.widget-view+json": {
       "model_id": "",
       "version_major": 2,
       "version_minor": 0
      },
      "text/plain": [
       "Validation: 0it [00:00, ?it/s]"
      ]
     },
     "metadata": {},
     "output_type": "display_data"
    },
    {
     "name": "stdout",
     "output_type": "stream",
     "text": [
      "***val_acc_all_offn at epoch end 0.6573660714285714****\n",
      "***val_f1 offensive at epoch end 0.6539993872898544****\n"
     ]
    },
    {
     "data": {
      "application/vnd.jupyter.widget-view+json": {
       "model_id": "",
       "version_major": 2,
       "version_minor": 0
      },
      "text/plain": [
       "Validation: 0it [00:00, ?it/s]"
      ]
     },
     "metadata": {},
     "output_type": "display_data"
    },
    {
     "name": "stdout",
     "output_type": "stream",
     "text": [
      "***val_acc_all_offn at epoch end 0.6573660714285714****\n",
      "***val_f1 offensive at epoch end 0.6539650921002854****\n"
     ]
    },
    {
     "data": {
      "application/vnd.jupyter.widget-view+json": {
       "model_id": "",
       "version_major": 2,
       "version_minor": 0
      },
      "text/plain": [
       "Validation: 0it [00:00, ?it/s]"
      ]
     },
     "metadata": {},
     "output_type": "display_data"
    },
    {
     "name": "stdout",
     "output_type": "stream",
     "text": [
      "***val_acc_all_offn at epoch end 0.6573660714285714****\n",
      "***val_f1 offensive at epoch end 0.6539076895787362****\n"
     ]
    },
    {
     "data": {
      "application/vnd.jupyter.widget-view+json": {
       "model_id": "",
       "version_major": 2,
       "version_minor": 0
      },
      "text/plain": [
       "Validation: 0it [00:00, ?it/s]"
      ]
     },
     "metadata": {},
     "output_type": "display_data"
    },
    {
     "name": "stdout",
     "output_type": "stream",
     "text": [
      "***val_acc_all_offn at epoch end 0.6584821428571429****\n",
      "***val_f1 offensive at epoch end 0.6548896400734072****\n"
     ]
    },
    {
     "data": {
      "application/vnd.jupyter.widget-view+json": {
       "model_id": "",
       "version_major": 2,
       "version_minor": 0
      },
      "text/plain": [
       "Validation: 0it [00:00, ?it/s]"
      ]
     },
     "metadata": {},
     "output_type": "display_data"
    },
    {
     "name": "stdout",
     "output_type": "stream",
     "text": [
      "***val_acc_all_offn at epoch end 0.6595982142857143****\n",
      "***val_f1 offensive at epoch end 0.65609372756505****\n"
     ]
    },
    {
     "data": {
      "application/vnd.jupyter.widget-view+json": {
       "model_id": "",
       "version_major": 2,
       "version_minor": 0
      },
      "text/plain": [
       "Validation: 0it [00:00, ?it/s]"
      ]
     },
     "metadata": {},
     "output_type": "display_data"
    },
    {
     "name": "stdout",
     "output_type": "stream",
     "text": [
      "***val_acc_all_offn at epoch end 0.6573660714285714****\n",
      "***val_f1 offensive at epoch end 0.6539780013141676****\n"
     ]
    },
    {
     "data": {
      "application/vnd.jupyter.widget-view+json": {
       "model_id": "",
       "version_major": 2,
       "version_minor": 0
      },
      "text/plain": [
       "Validation: 0it [00:00, ?it/s]"
      ]
     },
     "metadata": {},
     "output_type": "display_data"
    },
    {
     "name": "stdout",
     "output_type": "stream",
     "text": [
      "***val_acc_all_offn at epoch end 0.6551339285714286****\n",
      "***val_f1 offensive at epoch end 0.6517212094456272****\n"
     ]
    },
    {
     "data": {
      "application/vnd.jupyter.widget-view+json": {
       "model_id": "",
       "version_major": 2,
       "version_minor": 0
      },
      "text/plain": [
       "Validation: 0it [00:00, ?it/s]"
      ]
     },
     "metadata": {},
     "output_type": "display_data"
    },
    {
     "name": "stdout",
     "output_type": "stream",
     "text": [
      "***val_acc_all_offn at epoch end 0.6540178571428571****\n",
      "***val_f1 offensive at epoch end 0.6506511762900324****\n"
     ]
    },
    {
     "data": {
      "application/vnd.jupyter.widget-view+json": {
       "model_id": "",
       "version_major": 2,
       "version_minor": 0
      },
      "text/plain": [
       "Validation: 0it [00:00, ?it/s]"
      ]
     },
     "metadata": {},
     "output_type": "display_data"
    },
    {
     "name": "stdout",
     "output_type": "stream",
     "text": [
      "***val_acc_all_offn at epoch end 0.6540178571428571****\n",
      "***val_f1 offensive at epoch end 0.6506511762900324****\n"
     ]
    },
    {
     "data": {
      "application/vnd.jupyter.widget-view+json": {
       "model_id": "",
       "version_major": 2,
       "version_minor": 0
      },
      "text/plain": [
       "Validation: 0it [00:00, ?it/s]"
      ]
     },
     "metadata": {},
     "output_type": "display_data"
    },
    {
     "name": "stdout",
     "output_type": "stream",
     "text": [
      "***val_acc_all_offn at epoch end 0.6517857142857143****\n",
      "***val_f1 offensive at epoch end 0.648722278901821****\n"
     ]
    },
    {
     "data": {
      "application/vnd.jupyter.widget-view+json": {
       "model_id": "",
       "version_major": 2,
       "version_minor": 0
      },
      "text/plain": [
       "Validation: 0it [00:00, ?it/s]"
      ]
     },
     "metadata": {},
     "output_type": "display_data"
    },
    {
     "name": "stdout",
     "output_type": "stream",
     "text": [
      "***val_acc_all_offn at epoch end 0.6484375****\n",
      "***val_f1 offensive at epoch end 0.6452876220383041****\n"
     ]
    },
    {
     "data": {
      "application/vnd.jupyter.widget-view+json": {
       "model_id": "",
       "version_major": 2,
       "version_minor": 0
      },
      "text/plain": [
       "Validation: 0it [00:00, ?it/s]"
      ]
     },
     "metadata": {},
     "output_type": "display_data"
    },
    {
     "name": "stdout",
     "output_type": "stream",
     "text": [
      "***val_acc_all_offn at epoch end 0.6495535714285714****\n",
      "***val_f1 offensive at epoch end 0.646344239829327****\n"
     ]
    },
    {
     "data": {
      "application/vnd.jupyter.widget-view+json": {
       "model_id": "",
       "version_major": 2,
       "version_minor": 0
      },
      "text/plain": [
       "Validation: 0it [00:00, ?it/s]"
      ]
     },
     "metadata": {},
     "output_type": "display_data"
    },
    {
     "name": "stdout",
     "output_type": "stream",
     "text": [
      "***val_acc_all_offn at epoch end 0.6484375****\n",
      "***val_f1 offensive at epoch end 0.6451349389172624****\n"
     ]
    },
    {
     "data": {
      "application/vnd.jupyter.widget-view+json": {
       "model_id": "",
       "version_major": 2,
       "version_minor": 0
      },
      "text/plain": [
       "Validation: 0it [00:00, ?it/s]"
      ]
     },
     "metadata": {},
     "output_type": "display_data"
    },
    {
     "name": "stdout",
     "output_type": "stream",
     "text": [
      "***val_acc_all_offn at epoch end 0.6484375****\n",
      "***val_f1 offensive at epoch end 0.644815868479049****\n"
     ]
    },
    {
     "data": {
      "application/vnd.jupyter.widget-view+json": {
       "model_id": "",
       "version_major": 2,
       "version_minor": 0
      },
      "text/plain": [
       "Validation: 0it [00:00, ?it/s]"
      ]
     },
     "metadata": {},
     "output_type": "display_data"
    },
    {
     "name": "stdout",
     "output_type": "stream",
     "text": [
      "***val_acc_all_offn at epoch end 0.6517857142857143****\n",
      "***val_f1 offensive at epoch end 0.6481336988904891****\n"
     ]
    },
    {
     "data": {
      "application/vnd.jupyter.widget-view+json": {
       "model_id": "",
       "version_major": 2,
       "version_minor": 0
      },
      "text/plain": [
       "Validation: 0it [00:00, ?it/s]"
      ]
     },
     "metadata": {},
     "output_type": "display_data"
    },
    {
     "name": "stdout",
     "output_type": "stream",
     "text": [
      "***val_acc_all_offn at epoch end 0.6484375****\n",
      "***val_f1 offensive at epoch end 0.6447849492424808****\n"
     ]
    },
    {
     "data": {
      "application/vnd.jupyter.widget-view+json": {
       "model_id": "",
       "version_major": 2,
       "version_minor": 0
      },
      "text/plain": [
       "Validation: 0it [00:00, ?it/s]"
      ]
     },
     "metadata": {},
     "output_type": "display_data"
    },
    {
     "name": "stdout",
     "output_type": "stream",
     "text": [
      "***val_acc_all_offn at epoch end 0.6495535714285714****\n",
      "***val_f1 offensive at epoch end 0.6458319432314159****\n"
     ]
    },
    {
     "data": {
      "application/vnd.jupyter.widget-view+json": {
       "model_id": "",
       "version_major": 2,
       "version_minor": 0
      },
      "text/plain": [
       "Validation: 0it [00:00, ?it/s]"
      ]
     },
     "metadata": {},
     "output_type": "display_data"
    },
    {
     "name": "stdout",
     "output_type": "stream",
     "text": [
      "***val_acc_all_offn at epoch end 0.6517857142857143****\n",
      "***val_f1 offensive at epoch end 0.6480258581456023****\n"
     ]
    },
    {
     "data": {
      "application/vnd.jupyter.widget-view+json": {
       "model_id": "",
       "version_major": 2,
       "version_minor": 0
      },
      "text/plain": [
       "Validation: 0it [00:00, ?it/s]"
      ]
     },
     "metadata": {},
     "output_type": "display_data"
    },
    {
     "name": "stdout",
     "output_type": "stream",
     "text": [
      "***val_acc_all_offn at epoch end 0.6506696428571429****\n",
      "***val_f1 offensive at epoch end 0.6471136763066608****\n"
     ]
    },
    {
     "data": {
      "application/vnd.jupyter.widget-view+json": {
       "model_id": "",
       "version_major": 2,
       "version_minor": 0
      },
      "text/plain": [
       "Validation: 0it [00:00, ?it/s]"
      ]
     },
     "metadata": {},
     "output_type": "display_data"
    },
    {
     "name": "stderr",
     "output_type": "stream",
     "text": [
      "`Trainer.fit` stopped: `max_epochs=60` reached.\n"
     ]
    },
    {
     "name": "stdout",
     "output_type": "stream",
     "text": [
      "***val_acc_all_offn at epoch end 0.6529017857142857****\n",
      "***val_f1 offensive at epoch end 0.6492255991468674****\n"
     ]
    }
   ],
   "source": [
    "\n",
    "class Classifier(pl.LightningModule):\n",
    "    def __init__(self):\n",
    "        super().__init__()\n",
    "        # Initialize text and image processors\n",
    "        self.text_processor = torch.nn.Linear(768, 256)  # Processed to 256 features\n",
    "        self.image_processor = torch.nn.Linear(512, 256)  # Processed to 256 features\n",
    "\n",
    "        # For concatenated features: since you concatenate text_out and image_out, the input here should be 512\n",
    "        self.combined_processor = torch.nn.Linear(512, 2)  # Correct dimension for concatenated case\n",
    "\n",
    "        # If only text features are used and no concatenation happens, you might want to consider another layer\n",
    "        # to handle the case when image_features is None:\n",
    "        self.text_only_processor = torch.nn.Linear(256, 2)  # Handles only text features\n",
    "\n",
    "        self.dropout = torch.nn.Dropout(p=0.1)\n",
    "        self.activation = torch.nn.ReLU()\n",
    "    def forward(self, text_features, image_features=None):\n",
    "        text_out = self.dropout(self.activation(self.text_processor(text_features)))\n",
    "        if image_features is not None:\n",
    "             image_out = self.dropout(self.activation(self.image_processor(image_features)))\n",
    "             combined_features = torch.cat((text_out, image_out), dim=1)\n",
    "             output = torch.log_softmax(self.combined_processor(combined_features), dim=1)\n",
    "        else:\n",
    "             output = torch.log_softmax(self.text_only_processor(text_out), dim=1)  # Use the text-only processor\n",
    "        return output\n",
    "    def cross_entropy_loss(self, logits, labels):\n",
    "        return F.nll_loss(logits, labels)\n",
    "    \n",
    "    def training_step(self, train_batch, batch_idx):\n",
    "        lab,txt= train_batch\n",
    "        lab = train_batch[lab]\n",
    "        txt = train_batch[txt]\n",
    "        logit_offen= self.forward(txt)\n",
    "        loss = self.cross_entropy_loss(logit_offen, lab)\n",
    "        self.log('train_loss', loss)\n",
    "        return loss\n",
    "    def validation_step(self, val_batch, batch_idx):\n",
    "        lab,txt,= val_batch\n",
    "        lab = val_batch[lab]\n",
    "        #print(lab)\n",
    "          #print(lab)\n",
    " \n",
    "        txt = val_batch[txt]\n",
    "        \n",
    "        #   img = val_batch[img]\n",
    "        logits= self.forward(txt)\n",
    "        tmp = np.argmax(logits.detach().cpu().numpy(),axis=-1)\n",
    "        loss = self.cross_entropy_loss(logits, lab)\n",
    "        lab = lab.detach().cpu().numpy()\n",
    "        self.log('val_acc', accuracy_score(lab,tmp))\n",
    "        self.log('val_roc_auc',roc_auc_score(lab,tmp))\n",
    "        self.log('val_loss', loss)\n",
    "        tqdm_dict = {'val_acc': accuracy_score(lab,tmp)}\n",
    "        return {\n",
    "                'progress_bar': tqdm_dict,\n",
    "      'val_f1 offensive': f1_score(lab,tmp,average='macro')\n",
    "      }\n",
    "    def validation_epoch_end(self, validation_step_outputs):\n",
    "        outs = []\n",
    "        outs1,outs2,outs3,outs4,outs5,outs6,outs7,outs8,outs9,outs10,outs11,outs12,outs13,outs14,outs16,outs17 = \\\n",
    "    [],[],[],[],[],[],[],[],[],[],[],[],[],[],[],[]\n",
    "        for out in validation_step_outputs:\n",
    "            outs.append(out['progress_bar']['val_acc'])\n",
    "            outs14.append(out['val_f1 offensive'])\n",
    "        self.log('val_acc_all_offn', sum(outs)/len(outs))\n",
    "        self.log('val_f1 offensive', sum(outs14)/len(outs14))\n",
    "        print(f'***val_acc_all_offn at epoch end {sum(outs)/len(outs)}****')\n",
    "        print(f'***val_f1 offensive at epoch end {sum(outs14)/len(outs14)}****')\n",
    "    def test_step(self, batch, batch_idx):\n",
    "        lab,txt= batch\n",
    "\n",
    "        lab = batch[lab]\n",
    "      #print(lab)\n",
    "        txt = batch[txt]\n",
    "    #   img = batch[img]\n",
    "        logits= self.forward(txt)\n",
    "        tmp = np.argmax(logits.detach().cpu().numpy(),axis=-1)\n",
    "        loss = self.cross_entropy_loss(logits, lab)\n",
    "        lab = lab.detach().cpu().numpy()\n",
    "        self.log('test_acc', accuracy_score(lab,tmp))\n",
    "        self.log('test_roc_auc',roc_auc_score(lab,tmp))\n",
    "        self.log('test_loss', loss)\n",
    "        tqdm_dict = {'test_acc': accuracy_score(lab,tmp)}\n",
    "        return {\n",
    "                'progress_bar': tqdm_dict,\n",
    "                'test_acc': accuracy_score(lab,tmp),\n",
    "                'test_f1_score': f1_score(lab,tmp,average='macro'),}\n",
    "    def test_epoch_end(self, outputs):\n",
    "        outs = []\n",
    "        outs1,outs2,outs3,outs4,outs5,outs6,outs7,outs8,outs9,outs10,outs11,outs12,outs13,outs14 = \\\n",
    "      [],[],[],[],[],[],[],[],[],[],[],[],[],[]\n",
    "        for out in outputs:\n",
    "            outs.append(out['test_acc'])\n",
    "            outs2.append(out['test_f1_score'])\n",
    "        self.log('test_acc', sum(outs)/len(outs))\n",
    "        self.log('test_f1_score', sum(outs2)/len(outs2))\n",
    "    def configure_optimizers(self):\n",
    "        optimizer = torch.optim.Adam(self.parameters(), lr=3e-5)\n",
    "        return optimizer\n",
    "\n",
    "\n",
    "class HmDataModule(pl.LightningDataModule):\n",
    "    def setup(self, stage):  \n",
    "        self.hm_train = t_p\n",
    "        self.hm_val = v_p\n",
    "    # self.hm_test = test\n",
    "        self.hm_test = te_p\n",
    "    def train_dataloader(self):\n",
    "        return DataLoader(self.hm_train, batch_size=128, drop_last=True)\n",
    "    def val_dataloader(self):\n",
    "        return DataLoader(self.hm_val, batch_size=128, drop_last=True)\n",
    "    def test_dataloader(self):\n",
    "        return DataLoader(self.hm_test, batch_size=128, drop_last=True)\n",
    "\n",
    "data_module = HmDataModule()\n",
    "checkpoint_callback = ModelCheckpoint(\n",
    "     monitor='val_acc_all_offn',\n",
    "     dirpath='dehate/',\n",
    "     filename='epoch{epoch:02d}-val_f1_all_offn{val_acc_all_offn:.2f}',\n",
    "     auto_insert_metric_name=False,\n",
    "     save_top_k=1,\n",
    "    mode=\"max\",\n",
    " )\n",
    "all_callbacks = []\n",
    "all_callbacks.append(checkpoint_callback)\n",
    "# train\n",
    "from pytorch_lightning import seed_everything\n",
    "seed_everything(42, workers=True)\n",
    "hm_model = Classifier()\n",
    "gpus = 1 if torch.cuda.is_available() else 0\n",
    "trainer = pl.Trainer(gpus=gpus,deterministic=True,max_epochs=60,precision=16,callbacks=all_callbacks)\n",
    "# trainer = pl.Trainer(gpus=gpus,max_epochs=10,callbacks=all_callbacks)\n",
    "trainer.fit(hm_model, data_module)\n"
   ]
  },
  {
   "cell_type": "code",
   "execution_count": null,
   "id": "d015e718",
   "metadata": {},
   "outputs": [],
   "source": []
  },
  {
   "cell_type": "code",
   "execution_count": null,
   "id": "137c7547",
   "metadata": {},
   "outputs": [],
   "source": []
  },
  {
   "cell_type": "code",
   "execution_count": 19,
   "id": "78fea271",
   "metadata": {},
   "outputs": [
    {
     "name": "stderr",
     "output_type": "stream",
     "text": [
      "Restoring states from the checkpoint path at /DATA/atul_2221cs20/jitendra/New_model/dehate/epoch27-val_f1_all_offn0.67.ckpt\n",
      "LOCAL_RANK: 0 - CUDA_VISIBLE_DEVICES: [2]\n",
      "Loaded model weights from checkpoint at /DATA/atul_2221cs20/jitendra/New_model/dehate/epoch27-val_f1_all_offn0.67.ckpt\n",
      "/DATA/atul_2221cs20/anaconda3/envs/jitu/lib/python3.7/site-packages/pytorch_lightning/trainer/connectors/data_connector.py:229: PossibleUserWarning: The dataloader, test_dataloader 0, does not have many workers which may be a bottleneck. Consider increasing the value of the `num_workers` argument` (try 64 which is the number of cpus on this machine) in the `DataLoader` init to improve performance.\n",
      "  category=PossibleUserWarning,\n"
     ]
    },
    {
     "data": {
      "application/vnd.jupyter.widget-view+json": {
       "model_id": "d2eb6d25479a4541818b165526a66648",
       "version_major": 2,
       "version_minor": 0
      },
      "text/plain": [
       "Testing: 0it [00:00, ?it/s]"
      ]
     },
     "metadata": {},
     "output_type": "display_data"
    },
    {
     "data": {
      "text/html": [
       "<pre style=\"white-space:pre;overflow-x:auto;line-height:normal;font-family:Menlo,'DejaVu Sans Mono',consolas,'Courier New',monospace\">┏━━━━━━━━━━━━━━━━━━━━━━━━━━━┳━━━━━━━━━━━━━━━━━━━━━━━━━━━┓\n",
       "┃<span style=\"font-weight: bold\">        Test metric        </span>┃<span style=\"font-weight: bold\">       DataLoader 0        </span>┃\n",
       "┡━━━━━━━━━━━━━━━━━━━━━━━━━━━╇━━━━━━━━━━━━━━━━━━━━━━━━━━━┩\n",
       "│<span style=\"color: #008080; text-decoration-color: #008080\">         test_acc          </span>│<span style=\"color: #800080; text-decoration-color: #800080\">    0.6611601598394191     </span>│\n",
       "│<span style=\"color: #008080; text-decoration-color: #008080\">       test_f1_score       </span>│<span style=\"color: #800080; text-decoration-color: #800080\">    0.6598244038813443     </span>│\n",
       "│<span style=\"color: #008080; text-decoration-color: #008080\">         test_loss         </span>│<span style=\"color: #800080; text-decoration-color: #800080\">    0.6121626496315002     </span>│\n",
       "│<span style=\"color: #008080; text-decoration-color: #008080\">       test_roc_auc        </span>│<span style=\"color: #800080; text-decoration-color: #800080\">    0.6605892491981492     </span>│\n",
       "└───────────────────────────┴───────────────────────────┘\n",
       "</pre>\n"
      ],
      "text/plain": [
       "┏━━━━━━━━━━━━━━━━━━━━━━━━━━━┳━━━━━━━━━━━━━━━━━━━━━━━━━━━┓\n",
       "┃\u001b[1m \u001b[0m\u001b[1m       Test metric       \u001b[0m\u001b[1m \u001b[0m┃\u001b[1m \u001b[0m\u001b[1m      DataLoader 0       \u001b[0m\u001b[1m \u001b[0m┃\n",
       "┡━━━━━━━━━━━━━━━━━━━━━━━━━━━╇━━━━━━━━━━━━━━━━━━━━━━━━━━━┩\n",
       "│\u001b[36m \u001b[0m\u001b[36m        test_acc         \u001b[0m\u001b[36m \u001b[0m│\u001b[35m \u001b[0m\u001b[35m   0.6611601598394191    \u001b[0m\u001b[35m \u001b[0m│\n",
       "│\u001b[36m \u001b[0m\u001b[36m      test_f1_score      \u001b[0m\u001b[36m \u001b[0m│\u001b[35m \u001b[0m\u001b[35m   0.6598244038813443    \u001b[0m\u001b[35m \u001b[0m│\n",
       "│\u001b[36m \u001b[0m\u001b[36m        test_loss        \u001b[0m\u001b[36m \u001b[0m│\u001b[35m \u001b[0m\u001b[35m   0.6121626496315002    \u001b[0m\u001b[35m \u001b[0m│\n",
       "│\u001b[36m \u001b[0m\u001b[36m      test_roc_auc       \u001b[0m\u001b[36m \u001b[0m│\u001b[35m \u001b[0m\u001b[35m   0.6605892491981492    \u001b[0m\u001b[35m \u001b[0m│\n",
       "└───────────────────────────┴───────────────────────────┘\n"
      ]
     },
     "metadata": {},
     "output_type": "display_data"
    },
    {
     "data": {
      "text/plain": [
       "[{'test_acc': 0.6611601598394191,\n",
       "  'test_roc_auc': 0.6605892491981492,\n",
       "  'test_loss': 0.6121626496315002,\n",
       "  'test_f1_score': 0.6598244038813443}]"
      ]
     },
     "execution_count": 19,
     "metadata": {},
     "output_type": "execute_result"
    }
   ],
   "source": [
    "test_dataloader = DataLoader(dataset=te_p, batch_size=1478)\n",
    "ckpt_path = '/DATA/atul_2221cs20/jitendra/New_model/dehate/epoch27-val_f1_all_offn0.67.ckpt' # put ckpt_path according to the path output in the previous cell\n",
    "trainer.test(dataloaders=test_dataloader,ckpt_path=ckpt_path)"
   ]
  },
  {
   "cell_type": "code",
   "execution_count": 21,
   "id": "98a91138",
   "metadata": {},
   "outputs": [],
   "source": [
    "model_path = '/DATA/atul_2221cs20/jitendra/New_model/dehate/epoch27-val_f1_all_offn0.67.ckpt'\n",
    "trained_model = Classifier.load_from_checkpoint(checkpoint_path=model_path)\n"
   ]
  },
  {
   "cell_type": "code",
   "execution_count": 22,
   "id": "d6e6ae8d",
   "metadata": {},
   "outputs": [
    {
     "name": "stdout",
     "output_type": "stream",
     "text": [
      "Classifier(\n",
      "  (text_processor): Linear(in_features=768, out_features=256, bias=True)\n",
      "  (image_processor): Linear(in_features=512, out_features=256, bias=True)\n",
      "  (combined_processor): Linear(in_features=512, out_features=2, bias=True)\n",
      "  (text_only_processor): Linear(in_features=256, out_features=2, bias=True)\n",
      "  (dropout): Dropout(p=0.1, inplace=False)\n",
      "  (activation): ReLU()\n",
      ")\n"
     ]
    }
   ],
   "source": [
    "print(trained_model)"
   ]
  },
  {
   "cell_type": "code",
   "execution_count": 23,
   "id": "6fe6907e",
   "metadata": {},
   "outputs": [],
   "source": [
    "#for testing"
   ]
  },
  {
   "cell_type": "code",
   "execution_count": null,
   "id": "0f4d2661",
   "metadata": {},
   "outputs": [],
   "source": []
  },
  {
   "cell_type": "code",
   "execution_count": 45,
   "id": "4e168788",
   "metadata": {},
   "outputs": [],
   "source": [
    "data_test = pd.read_csv('/DATA/atul_2221cs20/jitendra/MAMI_test_set.csv') \n",
    "def get_data1(data_test):  # data = pd.read_csv(dataset_path)\n",
    "    # Extracting lists from the DataFrame\n",
    "    text = list(data_test['Text_Transcription'])\n",
    "    img_path = list(data_test['file_name'])\n",
    "    name = list(data_test['file_name'])\n",
    "    label = list(data_test['misogynous'])\n",
    "\n",
    "    # Initializing lists for storing processed data\n",
    "    text_features, image_features, l, Name, v, text_descriptions = [], [], [], [], [], []\n",
    "\n",
    "    for txt, img, L, n in tqdm(zip(text, img_path, label, name)):\n",
    "        try:\n",
    "            img = Image.open('/DATA/atul_2221cs20/jitendra/Jitendra/data/test_images/' + img)\n",
    "        except Exception as e:\n",
    "            print(e)\n",
    "            continue\n",
    "\n",
    "        img = torch.stack([compose(img).to(device)])\n",
    "\n",
    "        l.append(L)\n",
    "        Name.append(n)\n",
    "        text_descriptions.append(txt)  # Append the text description to the list\n",
    "      \n",
    "        with torch.no_grad():\n",
    "           # txt = clip.tokenize(txt,truncate=True).to(device)\n",
    "            temp_txt = model_t.forward(txt, tokenizer).detach().cpu().numpy()\n",
    "            #print(temp_txt.shape)\n",
    "#             temp_txt = model.forward(txt, tokenizer).detach().cpu().numpy()\n",
    "            \n",
    "            text_features.append(temp_txt)\n",
    "            \n",
    "\n",
    "            temp_img = clip_model.encode_image(img).detach().cpu().numpy()\n",
    "            #temp_img = model.forward(img).detach().cpu().numpy()\n",
    "           # print(temp_img.shape)\n",
    "            image_features.append(temp_img)\n",
    "\n",
    "            del temp_txt\n",
    "            del temp_img\n",
    "            torch.cuda.empty_cache()\n",
    "\n",
    "        del img\n",
    "        torch.cuda.empty_cache()\n",
    "\n",
    "    # Return the text descriptions along with the other data\n",
    "    return text_features, image_features, l, Name, text_descriptions\n",
    "class HatefulDataset1(Dataset):\n",
    "    def __init__(self, data):\n",
    "        # Assuming get_data now also returns text_descriptions\n",
    "        self.t_f, self.i_f, self.label, self.name, self.text_descriptions = get_data1(data)\n",
    "        \n",
    "        # Squeeze the arrays if necessary (assuming this is for removing unnecessary dimensions)\n",
    "        self.t_f = np.squeeze(np.asarray(self.t_f), axis=1)\n",
    "        self.i_f = np.squeeze(np.asarray(self.i_f), axis=1)\n",
    "    \n",
    "    def __len__(self):\n",
    "        # The length of the dataset is the length of the labels\n",
    "        return len(self.label)\n",
    "    \n",
    "    def __getitem__(self, idx):\n",
    "        # Convert idx from tensor to list if it's a tensor\n",
    "        if torch.is_tensor(idx):\n",
    "            idx = idx.tolist()\n",
    "        \n",
    "        # Extract data for the given index\n",
    "        name = self.name[idx]\n",
    "        label = self.label[idx]\n",
    "        T = self.t_f[idx, :]\n",
    "        I = self.i_f[idx, :]\n",
    "        text_description = self.text_descriptions[idx]  # Extract the text description\n",
    "        \n",
    "        # Create a sample dictionary to return\n",
    "        sample = {\n",
    "            'label': label,\n",
    "            'processed_txt': T,\n",
    "            'processed_img': I,\n",
    "            'name': name,\n",
    "            'text_description': text_description  # Include the text description in the sample\n",
    "        }\n",
    "        \n",
    "        return sample\n",
    "    "
   ]
  },
  {
   "cell_type": "code",
   "execution_count": null,
   "id": "bb5e2285",
   "metadata": {},
   "outputs": [],
   "source": []
  },
  {
   "cell_type": "code",
   "execution_count": 46,
   "id": "c4f3ec85",
   "metadata": {},
   "outputs": [
    {
     "data": {
      "application/vnd.jupyter.widget-view+json": {
       "model_id": "caa68314485343e1bc5105817647b7ca",
       "version_major": 2,
       "version_minor": 0
      },
      "text/plain": [
       "0it [00:00, ?it/s]"
      ]
     },
     "metadata": {},
     "output_type": "display_data"
    }
   ],
   "source": [
    "sample_dataset_t = HatefulDataset1(data_test)"
   ]
  },
  {
   "cell_type": "code",
   "execution_count": 47,
   "id": "f9537b6c",
   "metadata": {},
   "outputs": [],
   "source": [
    "torch.save(sample_dataset_t,'MAMI_test3.pt')"
   ]
  },
  {
   "cell_type": "code",
   "execution_count": 48,
   "id": "761ab845",
   "metadata": {},
   "outputs": [],
   "source": [
    "sample_dataset_test= torch.load(\"MAMI_test3.pt\")"
   ]
  },
  {
   "cell_type": "code",
   "execution_count": 49,
   "id": "68564a67",
   "metadata": {},
   "outputs": [
    {
     "data": {
      "text/plain": [
       "{'label': 0,\n",
       " 'processed_txt': array([ 3.16702753e-01, -2.64505565e-01,  2.90357322e-01,  4.40030038e-01,\n",
       "         2.41311908e-01,  3.03467631e-01, -1.85672283e-01,  4.47987050e-01,\n",
       "        -3.47782448e-02, -2.17394665e-01, -2.53920276e-02, -1.29242882e-01,\n",
       "         4.14236695e-01,  1.74275324e-01,  3.52811068e-01, -2.43612587e-01,\n",
       "         3.03050399e-01,  4.99805361e-01, -7.39374831e-02, -6.65779769e-01,\n",
       "        -1.81546316e-01, -3.48220468e-01,  2.33768255e-01,  1.41589716e-01,\n",
       "         2.53372937e-01, -4.33969021e-01,  1.11369193e-01, -2.38649696e-01,\n",
       "         3.41512188e-02,  3.14746231e-01,  2.47805238e-01, -4.91967916e-01,\n",
       "         9.64541081e-03,  2.59685308e-01, -2.23373950e-01, -3.97437364e-02,\n",
       "         5.96575066e-02,  9.93316714e-03, -1.91678241e-01, -1.48252904e-01,\n",
       "         3.10360994e-02,  4.73225594e-01,  1.19926579e-01, -4.99491021e-02,\n",
       "         5.68662770e-02, -2.03625977e-01, -2.04187855e-01, -1.67487115e-01,\n",
       "         3.27440023e-01, -4.24950898e-01,  1.21770784e-01, -2.37001166e-01,\n",
       "        -1.27340123e-01, -1.21043019e-01,  4.78277087e-01, -6.86394051e-02,\n",
       "        -4.42063451e-01, -8.22400153e-02, -4.10829365e-01,  2.01464981e-01,\n",
       "        -3.74841601e-01,  4.18028146e-01,  1.53850555e-01,  4.89662848e-02,\n",
       "         1.87356532e-01,  4.43255633e-01,  2.57845111e-02, -2.91550577e-01,\n",
       "         3.05892229e-01, -3.04809153e-01, -3.68529320e-01,  1.81845874e-01,\n",
       "         2.98356712e-01,  1.60334073e-02, -2.14232311e-01, -4.64422554e-01,\n",
       "         1.58645064e-01, -2.08715647e-02, -3.15490872e-01,  2.27009416e-01,\n",
       "        -1.25236839e-01,  3.06733638e-01, -1.34465858e-01, -2.31989056e-01,\n",
       "         4.55318019e-02,  6.80622876e-01, -2.38061026e-02, -2.32833609e-01,\n",
       "         4.22096223e-01,  1.85963169e-01,  5.04524224e-02, -1.05587937e-01,\n",
       "        -6.90549985e-02, -2.14183368e-02, -2.75515437e-01, -1.02312684e-01,\n",
       "        -2.70114839e-01,  2.11772084e-01, -5.02190828e-01, -2.63550222e-01,\n",
       "        -1.87075123e-01,  3.70337725e-01, -3.02549880e-02,  4.78700399e-01,\n",
       "         2.42408723e-01, -3.91466796e-01, -2.07500011e-01,  3.61690432e-01,\n",
       "        -3.39590579e-01, -4.07143503e-01, -2.85114080e-01,  3.53123397e-01,\n",
       "        -1.05968900e-01, -1.61250681e-01,  1.02999389e-01,  1.75467789e-01,\n",
       "         4.44689356e-02,  2.38677830e-01, -3.26829195e-01, -1.48561180e-01,\n",
       "        -1.97183713e-01,  1.53189138e-01, -1.65075839e-01,  2.63468802e-01,\n",
       "         1.71992719e-01, -2.30534244e-02,  2.38087460e-01,  7.92659461e-01,\n",
       "         3.80167246e-01, -7.51440004e-02, -5.36099151e-02, -1.16316175e+00,\n",
       "        -5.71874790e-02, -3.59562814e-01,  1.46569282e-01, -4.66365129e-01,\n",
       "         1.11357778e-01,  1.69936538e-01,  3.27809192e-02, -2.96437502e-01,\n",
       "        -1.08515628e-01, -7.00448528e-02,  1.05785513e-02,  1.89401850e-01,\n",
       "         7.34961987e-01, -2.07800604e-02, -2.54826128e-01, -5.72896361e-01,\n",
       "         2.37269446e-01, -9.07133892e-02,  1.69857085e-01, -2.33412519e-01,\n",
       "        -8.31850693e-02, -2.85482872e-02, -2.41702408e-01, -3.63095850e-01,\n",
       "        -1.16420791e-01,  2.31367927e-02, -2.18458861e-01,  6.51300251e-01,\n",
       "         2.82806456e-01,  3.32837552e-02,  1.60058200e-01, -3.87303621e-01,\n",
       "        -1.20223470e-01, -2.18011200e-01,  2.47433856e-02, -1.26677334e-01,\n",
       "        -1.78299516e-01,  3.83414209e-01,  4.50023532e-01,  8.02201480e-02,\n",
       "         2.55653828e-01,  9.03132036e-02, -2.76111867e-02, -1.44803032e-01,\n",
       "        -1.47235513e-01,  2.55192012e-01, -1.26002535e-01, -1.20846257e-01,\n",
       "         5.00819385e-01,  1.56744182e-01, -2.89949805e-01, -2.47345582e-01,\n",
       "        -2.52465308e-01, -3.39441091e-01, -7.53858685e-03,  1.58658475e-01,\n",
       "         1.47604689e-01,  5.36916792e-01,  2.15005487e-01,  2.28381187e-01,\n",
       "         2.87888020e-01,  7.12381452e-02,  5.53569973e-01, -1.02569759e+00,\n",
       "         3.25684726e-01,  1.01885617e-01,  4.50135231e-01,  1.54665977e-01,\n",
       "        -2.83579528e-01,  5.53768396e-01,  5.86368814e-02,  4.63430174e-02,\n",
       "        -3.23522121e-01,  6.18267506e-02, -5.57767212e-01, -2.06647485e-01,\n",
       "         6.75761774e-02,  5.17943501e-01, -2.40014523e-01,  1.90994158e-01,\n",
       "         2.57283170e-03,  4.15563472e-02,  8.44391957e-02, -4.77909595e-01,\n",
       "        -8.43843937e-01, -2.16407254e-01,  4.03753430e-01,  3.74632962e-02,\n",
       "         2.86263645e-01,  1.07103303e-01, -1.33671798e-02, -5.85091114e-01,\n",
       "        -3.71401943e-02, -6.83443725e-01,  1.72480494e-02, -1.21537209e-01,\n",
       "        -1.67733833e-01,  5.01419961e-01, -4.26042110e-01, -3.45201999e-01,\n",
       "        -2.16226391e-02, -2.09820911e-01, -2.08701596e-01, -3.08142751e-01,\n",
       "        -5.81989400e-02,  1.92965060e-01,  4.40454893e-02, -2.73799121e-01,\n",
       "         7.76939988e-02, -1.00688115e-01, -2.30756283e-01, -3.36982042e-01,\n",
       "         1.84546292e-01,  3.79643530e-01,  4.15773422e-01, -5.01869656e-02,\n",
       "         5.72066128e-01,  1.39605552e-01, -3.37588578e-01, -1.15307048e-04,\n",
       "         2.37909183e-01,  2.95749307e-01,  8.00742656e-02, -4.19025987e-01,\n",
       "         3.21694370e-03, -1.85361147e-01, -2.88283616e-01,  2.37572894e-01,\n",
       "        -2.64574915e-01, -1.80991054e-01, -2.82033920e-01,  1.15667947e-01,\n",
       "        -6.85423553e-01, -1.54923946e-01,  6.10054936e-03,  3.17637265e-01,\n",
       "        -3.05745065e-01, -5.00086062e-02, -3.11618298e-01, -1.99915335e-01,\n",
       "        -7.33439922e-02, -4.45155025e-01, -1.43868044e-01,  1.84746131e-01,\n",
       "         5.67846477e-01, -2.86032230e-01, -2.01249514e-02, -5.30037820e-01,\n",
       "         2.96077579e-01,  7.11688638e-01, -7.81850982e-03,  4.96185273e-02,\n",
       "        -2.32167304e-01,  2.67839432e-01,  8.06472972e-02,  8.69248249e-03,\n",
       "        -8.48719716e-01, -6.44299686e-02,  3.75651091e-01, -6.16704077e-02,\n",
       "        -3.12178344e-01, -5.25034964e-01, -2.39063859e-01,  2.04711109e-01,\n",
       "         3.40966821e-01, -2.11000368e-01, -2.75917143e-01, -5.60113609e-01,\n",
       "        -3.26430291e-01,  9.93087888e-02,  3.27320732e-02, -2.57512301e-01,\n",
       "         4.19537604e-01, -3.80706713e-02, -6.70980453e-01,  3.66305828e-01,\n",
       "         6.53367192e-02, -9.86263007e-02,  7.05127940e-02,  8.11214745e-02,\n",
       "        -2.80832708e-01,  9.71341252e-01, -1.38592035e-01,  1.68782413e-01,\n",
       "        -8.20649052e+00,  2.86906570e-01, -6.94697261e-01,  1.01027973e-02,\n",
       "        -2.01444507e-01, -2.50101715e-01,  7.33007193e-01,  2.63661325e-01,\n",
       "         1.32381041e-02,  3.49218130e-01, -2.38283612e-02, -1.28708109e-01,\n",
       "         1.93664104e-01,  5.32858074e-02, -1.76467970e-01,  8.55286494e-02,\n",
       "        -3.71909499e-01,  6.85226098e-02,  4.60223794e-01,  2.78222650e-01,\n",
       "        -5.94097257e-01,  2.32117623e-01,  1.58205032e-01,  9.70986485e-02,\n",
       "        -1.97115019e-01, -7.30656832e-02, -1.07242033e-01, -3.07606876e-01,\n",
       "        -5.11775732e-01,  4.15195853e-01, -4.16615069e-01,  4.17761892e-01,\n",
       "         1.25147536e-01, -2.46196896e-01, -5.79450369e-01, -1.37158900e-01,\n",
       "         5.60767591e-01, -7.06099749e-01,  6.80302307e-02, -1.25141352e-01,\n",
       "         3.75967830e-01, -9.76507738e-02, -8.07866529e-02, -2.09503192e-02,\n",
       "        -3.31739604e-01, -3.19391429e-01,  3.24666910e-02, -2.33586475e-01,\n",
       "        -4.12371963e-01,  8.79153684e-02,  8.35884690e-01,  1.12436913e-01,\n",
       "        -2.55091757e-01,  4.47797887e-02, -3.14411014e-01,  1.82062343e-01,\n",
       "         3.26701373e-01, -5.74125350e-01,  1.88453048e-01,  1.70317069e-01,\n",
       "         4.75684822e-01,  7.66580850e-02, -1.48095801e-01,  2.29623374e-02,\n",
       "         2.44180098e-01,  1.13725290e-01, -1.32304460e-01,  8.23358968e-02,\n",
       "        -4.77496803e-01, -5.01949847e-01,  4.01777297e-01, -2.04401873e-02,\n",
       "        -2.82374889e-01,  3.23228389e-02,  1.68614030e-01, -4.63303775e-01,\n",
       "         7.68454047e-03, -1.42786711e-01, -1.75499678e-01,  1.96828172e-01,\n",
       "         4.77512069e-02, -2.93849677e-01, -5.86626947e-01, -4.52669322e-01,\n",
       "         2.03810498e-01, -1.85665965e-01, -2.31558889e-01, -4.90076661e-01,\n",
       "        -5.55835187e-01, -1.33401543e-01, -6.47683501e-01, -1.63152993e-01,\n",
       "         1.45587370e-01,  8.79439712e-01,  1.55343235e-01,  2.21958429e-01,\n",
       "         2.84625608e-02, -8.88694882e-01,  3.28076392e-01,  3.27051014e-01,\n",
       "         1.29311770e-01,  1.46758229e-01, -1.64281249e-01,  4.30308670e-01,\n",
       "         1.52213037e-01, -2.10425064e-01, -1.86036408e-01,  3.54029499e-02,\n",
       "         2.09976375e-01, -4.51832980e-01,  2.20163301e-01, -2.96513379e-01,\n",
       "        -3.58758718e-02,  1.00173220e-01, -3.37517232e-01,  3.34891975e-02,\n",
       "        -2.85546064e-01, -5.73415220e-01, -2.10301057e-01,  2.32243594e-02,\n",
       "         8.31140220e-01, -2.22228244e-01,  1.24760019e-02, -8.61015823e-03,\n",
       "         7.55292130e+00,  2.03388169e-01,  1.60059839e-01,  2.33275816e-01,\n",
       "        -1.57222506e-02, -2.41769001e-01, -1.52257234e-01,  5.48061393e-02,\n",
       "         4.15541857e-01,  1.95969611e-01,  2.18689784e-01,  6.95592239e-02,\n",
       "         7.10036978e-02, -7.83494338e-02,  1.35770738e-01, -1.75858751e-01,\n",
       "        -1.99473798e-01,  3.16248052e-02, -1.60577059e-01, -2.76911676e-01,\n",
       "        -2.00569898e-01,  5.38242161e-01, -6.54421672e-02,  9.51064453e-02,\n",
       "        -3.94388825e-01,  3.67600113e-01, -1.22271791e-01, -3.10478717e-01,\n",
       "        -2.19641969e-01,  1.69086143e-01, -1.01291440e-01, -3.43276262e-02,\n",
       "        -3.04501802e-01, -1.79696858e-01,  4.02829409e-01,  7.40897357e-01,\n",
       "        -3.70047271e-01, -2.07748592e-01, -6.14729524e-01,  1.80457428e-01,\n",
       "         2.91270852e-01,  4.02852684e-01,  3.11841965e-01, -2.14217886e-01,\n",
       "         8.44460130e-02,  1.71304904e-02, -1.33876622e-01, -2.31711596e-01,\n",
       "        -1.52094215e-01, -2.39373147e-01, -1.57689616e-01, -8.05835187e-01,\n",
       "        -1.45269454e-01, -3.60745192e-02, -1.33692414e-01,  5.09752393e-01,\n",
       "        -3.18741471e-01,  4.53118384e-01,  1.19250990e-01,  7.27345198e-02,\n",
       "         3.08615208e-01,  5.73205948e-02,  7.87556022e-02, -1.88780636e-01,\n",
       "         1.16383113e-01, -4.36043948e-01,  1.17075667e-01, -2.98550278e-01,\n",
       "        -1.88048612e-02,  4.89212424e-01,  1.64960653e-01, -1.22345224e-01,\n",
       "         2.46094465e-01,  2.94205308e-01,  1.02642663e-01,  3.52145173e-02,\n",
       "         1.90996945e-01, -3.26915383e-01,  1.20423861e-01,  3.61906022e-01,\n",
       "         5.32049477e-01,  1.25339955e-01, -4.63333309e-01,  4.14298335e-03,\n",
       "        -4.42331463e-01, -5.50108790e-01,  1.44070417e-01, -3.94749880e-01,\n",
       "         5.19000411e-01,  3.93546969e-01,  7.60365278e-02, -6.53892979e-02,\n",
       "        -2.54401956e-02,  1.66925937e-01, -6.07238822e-02, -4.10944283e-01,\n",
       "        -2.84914166e-01,  8.43217596e-02, -2.59874195e-01,  3.29737335e-01,\n",
       "         5.02646342e-02, -1.04898512e-01, -6.47843421e-01,  5.06604426e-02,\n",
       "        -4.10105616e-01, -3.28231812e-01,  4.65375483e-02, -1.45363212e-01,\n",
       "        -4.18273777e-01,  2.23240092e-01, -4.40037668e-01, -2.28143319e-01,\n",
       "         1.59573600e-01, -1.45905346e-01, -1.96570963e-01,  1.55208543e-01,\n",
       "        -3.67754668e-01,  2.93079913e-01,  4.83739376e-01, -1.78656518e-03,\n",
       "         2.12874010e-01,  2.68998176e-01,  4.95020509e-01,  1.00154549e-01,\n",
       "        -3.58363718e-01,  2.86171049e-01, -2.69548535e-01,  3.45730148e-02,\n",
       "        -8.12266693e-02, -2.66544074e-01, -8.59369785e-02,  1.51558474e-01,\n",
       "         6.87487945e-02, -4.89525907e-02,  7.26174787e-02, -3.47249582e-02,\n",
       "         5.51064372e-01,  6.56142235e-02, -1.55645713e-01, -1.04729772e-01,\n",
       "        -2.55246371e-01,  1.90081581e-01,  1.89433265e-02, -4.69121158e-01,\n",
       "         1.12747520e-01, -4.44978736e-02, -2.65960217e-01, -3.94167975e-02,\n",
       "         3.02888364e-01, -2.73621738e-01, -1.51473388e-01, -4.62380648e-01,\n",
       "        -9.70255435e-02, -3.36546861e-02, -1.12498049e-02, -1.60864457e-01,\n",
       "        -7.44238719e-02,  3.56597789e-02,  3.41599196e-01, -2.59376496e-01,\n",
       "         1.02036283e-03, -1.64366700e-02, -6.94945157e-01,  1.84758335e-01,\n",
       "        -1.24722622e-01, -3.76176775e-01,  3.98072638e-02, -3.24588656e-01,\n",
       "         4.35568482e-01, -5.57626128e-01, -4.23875526e-02, -6.14900403e-02,\n",
       "        -3.87175441e-01, -1.35109760e-03,  3.03806186e-01,  4.57954139e-01,\n",
       "        -1.69125404e-02,  1.90446749e-01, -5.30092597e-01, -1.58516645e-01,\n",
       "        -2.20379367e-01,  1.59286745e-02, -1.56482905e-01,  4.44308035e-02,\n",
       "        -4.06628102e-01,  8.67717206e-01, -5.10988235e-01,  9.00221020e-02,\n",
       "         1.79977074e-01, -1.08495392e-01, -1.64192066e-01, -2.61522055e-01,\n",
       "        -1.82988167e-01, -4.51564163e-01, -3.91140521e-01, -2.67737448e-01,\n",
       "         2.86628515e-01, -1.36823222e-01,  8.96243602e-02, -3.83566767e-01,\n",
       "        -7.59017169e-02, -1.66331917e-01,  4.74254519e-01,  2.63715953e-01,\n",
       "         8.88696373e-01,  3.99965793e-01, -1.79426908e-01,  2.31169403e-01,\n",
       "        -2.02808395e-01, -1.31630734e-01, -6.00934803e-01, -1.07738033e-01,\n",
       "        -7.47286320e-01, -2.99525917e-01,  4.19301987e-01,  9.22086239e-02,\n",
       "         1.87084422e-01,  4.22149412e-02, -9.35099125e-02, -2.97988832e-01,\n",
       "        -5.76070324e-02,  1.61345169e-01, -3.45065258e-02,  2.37787902e-01,\n",
       "         2.59019613e-01,  6.83001876e-02,  2.54634023e-01,  5.96457124e-01,\n",
       "        -9.09418583e-01,  4.51688617e-01, -3.95781130e-01,  2.85546213e-01,\n",
       "         3.64154950e-02, -2.80083448e-01, -5.66818379e-02, -7.45595545e-02,\n",
       "         2.08368644e-01,  2.90604383e-01,  1.47503987e-02, -1.92594349e-01,\n",
       "         2.02114843e-02, -4.10919428e-01, -6.07544817e-02,  3.06371778e-01,\n",
       "        -2.05307733e-02,  2.30401158e-02,  9.00822654e-02,  4.65158701e-01,\n",
       "        -2.50269920e-02,  6.66260272e-02,  3.99183389e-03, -5.85294008e-01,\n",
       "         2.84256618e-02, -2.15874478e-01, -3.90100837e-01, -2.95661628e-01,\n",
       "        -5.83844364e-01, -3.15559119e-01, -6.80314824e-02, -2.99149659e-03,\n",
       "        -2.05466419e-01, -1.04211066e-02, -2.29885176e-01, -8.00594509e-01,\n",
       "        -1.47694666e-02, -1.78790346e-01, -1.12059310e-01, -3.26162755e-01,\n",
       "         3.08764540e-02, -3.30164790e-01, -8.77945721e-02, -1.51829738e-02,\n",
       "        -3.22773606e-02, -3.77451330e-01, -4.86656189e-01, -7.58034647e-01,\n",
       "        -2.34619364e-01,  6.91723973e-02,  1.75635025e-01, -5.20938337e-01,\n",
       "        -4.84870039e-02,  2.84676403e-01,  2.52830029e-01,  2.23823622e-01,\n",
       "        -5.80244780e-01, -5.20472601e-02,  2.76361287e-01,  3.98228228e-01,\n",
       "        -2.91597277e-01,  2.02066883e-01,  5.00147343e-01, -6.15929738e-02,\n",
       "        -1.50935099e-01, -2.32621536e-01, -3.16497713e-01,  6.13590539e-01,\n",
       "         1.40115678e-01, -6.11711144e-01, -1.50665104e-01, -6.94143251e-02,\n",
       "        -1.80499971e-01, -3.78386199e-01, -8.75011086e-02,  1.84136197e-01,\n",
       "         2.88114429e-01,  5.94875515e-01,  3.57727975e-01, -3.69203061e-01,\n",
       "         2.46370211e-01, -1.62249535e-01, -1.75397888e-01,  2.17100799e-01,\n",
       "        -1.53146848e-01, -3.48660588e-01, -1.67803511e-01, -1.14598548e+00,\n",
       "         3.91834885e-01,  4.99830723e-01,  2.25363821e-02,  2.57945865e-01,\n",
       "         3.12920690e-01, -2.02121243e-01, -5.59835136e-01,  1.05908170e-01,\n",
       "        -3.73131484e-01, -2.54054099e-01,  4.51396871e-03, -3.24431717e-01],\n",
       "       dtype=float32),\n",
       " 'processed_img': array([-3.7402e-01, -2.7783e-01, -6.1951e-02, -3.7445e-02,  3.8281e-01,\n",
       "        -4.0259e-01, -2.7368e-01,  1.5430e-01, -3.3447e-01, -6.3477e-02,\n",
       "         6.1719e-01,  4.0405e-01,  8.2812e-01,  2.5171e-01,  1.2225e-01,\n",
       "        -1.0394e-01, -5.3284e-02,  1.9043e-01,  1.3867e-01, -2.4878e-01,\n",
       "         3.5229e-01,  3.7231e-02,  1.8005e-01, -1.8066e-01, -7.5195e-01,\n",
       "        -8.8989e-02, -1.6956e-01, -3.2593e-01, -3.1665e-01,  4.2236e-01,\n",
       "        -1.7700e-01, -1.0828e-01, -1.8616e-01,  2.9114e-02, -3.8513e-02,\n",
       "         1.5588e-01, -4.4403e-02,  4.7803e-01, -4.3677e-01, -1.9590e+00,\n",
       "         1.1908e-01, -3.1396e-01,  1.4490e-01,  2.1582e-01, -1.6821e-01,\n",
       "         1.6562e+00,  3.5889e-01,  9.7229e-02, -3.6011e-01,  2.6514e-01,\n",
       "        -5.5615e-01,  1.2225e-01,  1.8713e-01,  5.5573e-02,  8.3252e-02,\n",
       "         3.9429e-02, -2.8076e-02,  3.8818e-01,  5.1416e-01,  1.4168e-02,\n",
       "        -1.0199e-01, -1.9971e-01,  2.6978e-01, -1.3660e-01, -1.1523e-01,\n",
       "         1.9165e-01, -1.4929e-01,  1.2422e+00, -1.2988e-01, -2.8503e-02,\n",
       "        -1.9458e-01, -2.3071e-02, -3.6133e-02,  2.9492e-01, -1.7786e-01,\n",
       "        -2.4902e-01, -2.6855e-03, -3.2373e-01, -2.3291e-01,  4.0210e-01,\n",
       "        -1.6211e-01,  3.9990e-01,  2.4689e-02,  5.9131e-01, -1.6876e-02,\n",
       "        -2.1439e-02, -1.8661e-02, -4.8804e-01,  4.0723e-01, -4.4708e-02,\n",
       "         7.7705e-03, -4.4434e-01, -5.7266e+00,  7.6025e-01, -1.5503e-02,\n",
       "         2.5513e-01,  6.6956e-02, -2.8152e-02, -8.4961e-01,  3.4082e-01,\n",
       "        -7.1228e-02,  4.3152e-02, -1.6980e-01, -1.0406e-01, -8.5547e-01,\n",
       "         1.6138e-01,  1.6150e-01,  2.1692e-01, -4.6906e-02,  5.5908e-02,\n",
       "         1.6113e-01,  4.9438e-01,  1.2164e-01, -4.5508e-01, -3.4424e-01,\n",
       "        -2.3877e-01, -2.6196e-01, -4.9713e-02,  1.1670e-01, -2.9883e-01,\n",
       "        -1.7862e-03,  2.9614e-01, -3.1738e-01,  2.5562e-01, -3.6255e-01,\n",
       "         2.9126e-01, -3.6255e-01, -4.2419e-02, -2.5366e-01, -5.8685e-02,\n",
       "         2.6538e-01,  2.9614e-01, -4.7211e-02,  8.8428e-01, -1.9495e-01,\n",
       "         1.0358e-01, -3.9307e-02,  2.8320e-01,  8.8989e-02,  1.5454e-01,\n",
       "         1.7554e-01, -6.3904e-02, -1.4160e-02,  5.5615e-01, -5.7031e-01,\n",
       "         3.8940e-02,  4.0601e-01, -3.6426e-01, -2.6245e-02,  2.4268e-01,\n",
       "         2.0056e-01,  2.4194e-01,  9.5850e-01, -1.1346e-01,  1.9446e-01,\n",
       "        -1.6748e-01, -2.5171e-01, -5.5225e-01, -3.8208e-01,  3.8696e-01,\n",
       "        -2.5879e-01, -1.5430e-01, -1.4795e-01,  3.5278e-02,  7.9407e-02,\n",
       "        -6.9531e-01,  2.2742e-01,  2.2168e-01,  3.5858e-02, -1.2244e-01,\n",
       "        -2.3096e-01, -6.5918e-01, -5.6335e-02, -2.3254e-01, -3.8770e-01,\n",
       "         2.3193e-01, -1.5938e+00, -3.6523e-01, -8.4521e-01, -4.7485e-01,\n",
       "         2.3438e-01, -2.7051e-01, -3.2104e-01,  2.1985e-01, -5.5466e-03,\n",
       "         4.7417e-03,  3.4821e-02,  1.0187e-01, -4.1431e-01, -1.5710e-01,\n",
       "        -1.8726e-01,  4.0942e-01,  4.7412e-01,  2.0813e-01, -7.3291e-01,\n",
       "         5.3711e-02,  6.9580e-02, -5.9853e-03, -8.6975e-02,  4.8096e-02,\n",
       "         1.6504e-01, -3.2275e-01,  1.0211e-01, -2.1191e-01,  8.6377e-01,\n",
       "         4.8242e-01, -1.9455e-02,  2.6367e-01,  1.4197e-01, -2.6025e-01,\n",
       "        -3.4399e-01,  3.2617e-01,  4.4458e-01, -6.0455e-02, -2.8833e-01,\n",
       "         4.3848e-01,  5.9277e-01,  8.1421e-02, -1.1658e-01, -1.9751e-01,\n",
       "         4.6289e-01,  5.5615e-01, -4.1016e-01,  2.1851e-01,  1.4380e-01,\n",
       "         1.1670e-01, -3.4009e-01, -3.4277e-01, -3.7201e-02,  1.7175e-01,\n",
       "        -6.4062e-01,  9.5093e-02,  5.9601e-02,  7.5488e-01, -5.0244e-01,\n",
       "        -7.9004e-01,  3.0591e-01, -2.0032e-01, -1.9116e-01, -1.9397e-01,\n",
       "        -3.7217e-04, -4.1040e-01, -1.4374e-02,  2.4280e-01,  2.1973e-01,\n",
       "         5.8203e-01,  1.2720e-01,  1.8237e-01,  4.5386e-01,  8.9502e-01,\n",
       "        -8.2861e-01,  5.4639e-01, -1.2634e-01,  2.7295e-01, -6.6101e-02,\n",
       "         5.1660e-01, -1.4172e-01,  4.2017e-01, -8.2227e-01, -1.9580e-01,\n",
       "         1.5747e-01,  7.2632e-02,  3.4131e-01,  9.0283e-01,  5.2246e-01,\n",
       "         9.6970e-03,  4.4727e-01, -3.1464e-02, -2.8174e-01,  3.8135e-01,\n",
       "         3.7183e-01,  2.6367e-01, -6.5430e-02,  2.4683e-01,  2.1167e-01,\n",
       "         1.2134e-01, -1.3147e-01, -3.0103e-01,  8.0109e-03,  2.0569e-01,\n",
       "        -2.5708e-01, -2.3889e-01, -2.9175e-01, -2.9395e-01,  2.0984e-01,\n",
       "         3.1787e-01, -6.8457e-01, -4.0161e-01, -2.8027e-01, -6.7932e-02,\n",
       "         7.6599e-02,  2.4948e-02, -2.7222e-01, -4.4189e-02, -2.6001e-01,\n",
       "         2.3087e-02,  1.5404e-02, -8.3679e-02, -3.8090e-03,  4.6021e-01,\n",
       "        -4.6265e-02, -2.6318e-01, -1.7529e-01, -6.6833e-02,  3.6255e-01,\n",
       "         4.7607e-01, -1.4856e-01,  5.5786e-02,  3.0811e-01,  4.9707e-01,\n",
       "         3.4131e-01, -2.2766e-01,  8.8379e-01, -3.1348e-01,  3.5840e-01,\n",
       "        -9.4543e-02,  3.3716e-01,  1.4587e-01, -2.8467e-01, -1.9434e-01,\n",
       "        -2.9907e-01,  4.2017e-01,  1.1713e-01,  2.3853e-01, -4.0771e-01,\n",
       "         2.6123e-01,  4.9658e-01, -2.2253e-01,  3.2080e-01, -4.6997e-01,\n",
       "        -1.7334e-01,  3.7085e-01,  4.7021e-01,  2.2339e-01, -2.3218e-01,\n",
       "         1.1237e-01,  3.5425e-01,  1.6296e-01, -1.7310e-01, -5.6689e-01,\n",
       "         4.3433e-01,  5.1697e-02, -4.6436e-01,  3.7842e-01, -9.8389e-02,\n",
       "         1.8311e-01,  1.2195e-01, -3.6084e-01,  5.0488e-01,  8.8721e-01,\n",
       "         5.1855e-01, -2.8711e-01,  3.3643e-01,  4.3018e-01, -4.8438e-01,\n",
       "         4.7632e-01, -4.9365e-01, -2.0056e-01,  3.6133e-01, -1.3123e-01,\n",
       "         8.1787e-01,  4.6899e-01,  1.3110e-01,  3.1836e-01, -8.4961e-01,\n",
       "        -2.2913e-01,  6.4964e-03,  4.6606e-01,  3.4790e-02,  1.9873e-01,\n",
       "         1.4832e-02,  3.6987e-01, -5.5713e-01, -3.7744e-01,  3.0347e-01,\n",
       "        -6.1621e-01,  9.0186e-01,  1.9006e-01, -2.2253e-01, -3.1641e-01,\n",
       "        -1.0284e-01, -4.1162e-01, -1.1597e-01, -5.9277e-01, -1.3513e-01,\n",
       "        -4.0063e-01,  3.5187e-02,  7.6758e-01, -4.6533e-01, -1.2490e+00,\n",
       "        -6.9189e-01, -2.7539e-01,  8.3771e-03,  1.5149e-01, -4.7974e-02,\n",
       "         7.9712e-02, -5.5046e-03, -1.4722e-01, -2.4390e-01, -4.8975e-01,\n",
       "         2.1838e-01,  2.7905e-01, -1.1729e+00,  3.8208e-02, -2.3169e-01,\n",
       "         4.0558e-02,  2.5244e-01,  4.0137e-01,  2.3645e-01,  3.8086e-01,\n",
       "        -9.0759e-02, -3.5034e-01,  6.1230e-01,  1.6992e-01, -1.2146e-01,\n",
       "         2.1289e-01,  6.2549e-01, -5.2307e-02,  2.3010e-01, -5.3125e-01,\n",
       "         3.6987e-01,  2.6709e-01,  4.5947e-01,  9.2383e-01, -7.4097e-02,\n",
       "         2.1765e-01,  1.4258e-01,  2.7075e-01,  2.1411e-01, -1.1420e-01,\n",
       "         1.2657e-02,  4.1479e-01,  6.9531e-01, -1.5698e-01,  2.2974e-01,\n",
       "         3.3228e-01, -2.2070e-01,  3.5522e-01, -4.3579e-01, -1.1420e-01,\n",
       "        -5.0537e-01,  2.9810e-01,  7.2754e-02,  4.2261e-01, -4.1504e-01,\n",
       "        -2.0972e-01,  5.1178e-02, -2.9175e-01,  4.4800e-01,  1.4771e-01,\n",
       "        -6.7920e-01,  3.5083e-01,  1.2854e-01, -9.3079e-02,  2.8198e-02,\n",
       "         4.8431e-02,  5.7129e-01, -9.4666e-02,  3.4229e-01,  3.7915e-01,\n",
       "         2.2095e-01,  6.3904e-02,  1.8860e-01,  3.1616e-01,  2.2559e-01,\n",
       "         7.5146e-01, -2.6123e-01,  4.5630e-01, -1.3879e-01, -3.0502e-02,\n",
       "        -7.2441e-03,  7.3730e-02, -1.1523e-01, -3.0493e-01, -1.0565e-01,\n",
       "         2.2717e-01, -2.1240e-01,  7.5781e-01,  6.3843e-02, -2.2934e-02,\n",
       "        -5.5115e-02, -3.7628e-02,  4.0503e-01,  2.8589e-01, -2.9712e-01,\n",
       "         1.9812e-01, -4.9927e-01, -8.5571e-02,  1.7896e-01,  2.8052e-01,\n",
       "         2.1326e-01, -5.4541e-01,  5.3662e-01, -2.1619e-01, -1.1865e-01,\n",
       "         1.0394e-01,  1.2585e-01, -2.3853e-01, -9.1125e-02, -1.3184e-01,\n",
       "         5.7666e-01,  1.9775e-01, -4.5557e-01, -4.6265e-01,  3.1030e-01,\n",
       "         1.5979e-01, -5.3418e-01, -7.2815e-02, -3.3844e-02, -6.0272e-02,\n",
       "         5.5237e-02,  7.5195e-02], dtype=float16),\n",
       " 'name': '15002.jpg',\n",
       " 'text_description': 'How limagined myself as a Teacher...... How I feel as a Teacher... panda cont'}"
      ]
     },
     "execution_count": 49,
     "metadata": {},
     "output_type": "execute_result"
    }
   ],
   "source": [
    "sample_dataset_test[1]"
   ]
  },
  {
   "cell_type": "code",
   "execution_count": null,
   "id": "25636436",
   "metadata": {},
   "outputs": [],
   "source": []
  },
  {
   "cell_type": "code",
   "execution_count": 51,
   "id": "a5768886",
   "metadata": {},
   "outputs": [
    {
     "name": "stdout",
     "output_type": "stream",
     "text": [
      "Class distribution: [49.2, 50.8]\n",
      "ethic:49.2%\n",
      "non-ethic:50.8%\n"
     ]
    }
   ],
   "source": [
    "import torch\n",
    "import torch.nn.functional as F\n",
    "from torch.utils.data import DataLoader\n",
    "import pytorch_lightning as pl\n",
    "\n",
    "class Classifier(pl.LightningModule):\n",
    "    def __init__(self):\n",
    "        super().__init__()\n",
    "        self.text_processor = torch.nn.Linear(768, 256)\n",
    "        self.image_processor = torch.nn.Linear(512, 256)\n",
    "        self.combined_processor = torch.nn.Linear(512, 2)\n",
    "        self.text_only_processor = torch.nn.Linear(256, 2)\n",
    "        self.dropout = torch.nn.Dropout(0.1)\n",
    "        self.activation = torch.nn.ReLU()\n",
    "\n",
    "    def forward(self, text_features, image_features=None):\n",
    "        text_out = self.dropout(self.activation(self.text_processor(text_features)))\n",
    "        if image_features is not None:\n",
    "            image_out = self.dropout(self.activation(self.image_processor(image_features)))\n",
    "            combined_features = torch.cat((text_out, image_out), dim=1)\n",
    "            return torch.log_softmax(self.combined_processor(combined_features), dim=1)\n",
    "        else:\n",
    "            return torch.log_softmax(self.text_only_processor(text_out), dim=1)\n",
    "\n",
    "def load_model(checkpoint_path):\n",
    "    model = Classifier.load_from_checkpoint(checkpoint_path)\n",
    "    model.eval()\n",
    "    model.freeze()\n",
    "    return model\n",
    "\n",
    "class HmDataModule(pl.LightningDataModule):\n",
    "    def __init__(self, test_dataset):\n",
    "        super().__init__()\n",
    "        self.test_dataset = test_dataset\n",
    "\n",
    "    def test_dataloader(self):\n",
    "        return DataLoader(self.test_dataset, batch_size=128, shuffle=False)\n",
    "\n",
    "def run_inference(model, data_module):\n",
    "    class_counts = [0, 0]  # Assuming two classes\n",
    "    dataloader = data_module.test_dataloader()\n",
    "\n",
    "    with torch.no_grad():\n",
    "        for batch in dataloader:\n",
    "            text_features, image_features = batch['processed_txt'].float(), batch['processed_img'].float()\n",
    "            outputs = model(text_features, image_features)\n",
    "            predictions = torch.argmax(outputs, dim=1)\n",
    "            for pred in predictions:\n",
    "                class_counts[pred.item()] += 1\n",
    "\n",
    "    total = sum(class_counts)\n",
    "    percentages = [count / total * 100 for count in class_counts]\n",
    "    return percentages\n",
    "\n",
    "# Setup and usage\n",
    "checkpoint_path = '/DATA/atul_2221cs20/jitendra/New_model/dehate/epoch27-val_f1_all_offn0.67-v1.ckpt'\n",
    "model = load_model(checkpoint_path)\n",
    "test_dataset = torch.load(\"MAMI_test3.pt\")\n",
    "data_module = HmDataModule(test_dataset=test_dataset)\n",
    "\n",
    "# Run inference\n",
    "percentages = run_inference(model, data_module)\n",
    "print(\"Class distribution:\", percentages)\n",
    "print(\"ethic:\"+str(percentages[0])+\"%\")\n",
    "print(\"non-ethic:\"+str(percentages[1])+\"%\")\n"
   ]
  },
  {
   "cell_type": "code",
   "execution_count": null,
   "id": "a6df0c8d",
   "metadata": {},
   "outputs": [],
   "source": []
  },
  {
   "cell_type": "code",
   "execution_count": 47,
   "id": "cee4f2f8",
   "metadata": {},
   "outputs": [],
   "source": [
    "#now further we will  analysis our newly created dataset"
   ]
  },
  {
   "cell_type": "code",
   "execution_count": 37,
   "id": "0839483c",
   "metadata": {},
   "outputs": [],
   "source": [
    "data_test1 = pd.read_csv('/DATA/atul_2221cs20/jitendra/New_model/data/result.csv') \n",
    "def get_data2(data_test):  # data = pd.read_csv(dataset_path)\n",
    "    # Extracting lists from the DataFrame\n",
    "    text = list(data_test['text'])\n",
    "    img_path = list(data_test['name'])\n",
    "    name = list(data_test['name'])\n",
    "    label = list(data_test['label'])\n",
    "\n",
    "    # Initializing lists for storing processed data\n",
    "    text_features, image_features, l, Name, v, text_descriptions = [], [], [], [], [], []\n",
    "\n",
    "    for txt, img, L, n in tqdm(zip(text, img_path, label, name)):\n",
    "        try:\n",
    "            img = Image.open('/DATA/atul_2221cs20/jitendra/New_model2/output_images_label_02/' + img)\n",
    "        except Exception as e:\n",
    "            print(e)\n",
    "            continue\n",
    "\n",
    "        img = torch.stack([compose(img).to(device)])\n",
    "\n",
    "        l.append(L)\n",
    "        Name.append(n)\n",
    "        text_descriptions.append(txt)  # Append the text description to the list\n",
    "        #print(txt)\n",
    "        with torch.no_grad():\n",
    "           # txt = clip.tokenize(txt,truncate=True).to(device)\n",
    "            temp_txt = model_t.forward(txt, tokenizer).detach().cpu().numpy()\n",
    "            #print(temp_txt.shape)\n",
    "#             temp_txt = model.forward(txt, tokenizer).detach().cpu().numpy()\n",
    "            \n",
    "            text_features.append(temp_txt)\n",
    "            \n",
    "\n",
    "            temp_img = clip_model.encode_image(img).detach().cpu().numpy()\n",
    "            #temp_img = model.forward(img).detach().cpu().numpy()\n",
    "           # print(temp_img.shape)\n",
    "            image_features.append(temp_img)\n",
    "\n",
    "            del temp_txt\n",
    "            del temp_img\n",
    "            torch.cuda.empty_cache()\n",
    "\n",
    "        del img\n",
    "        torch.cuda.empty_cache()\n",
    "\n",
    "    # Return the text descriptions along with the other data\n",
    "    return text_features, image_features, l, Name, text_descriptions\n",
    "class HatefulDataset2(Dataset):\n",
    "    def __init__(self, data):\n",
    "        # Assuming get_data now also returns text_descriptions\n",
    "        self.t_f, self.i_f, self.label, self.name, self.text_descriptions = get_data2(data)\n",
    "        \n",
    "        # Squeeze the arrays if necessary (assuming this is for removing unnecessary dimensions)\n",
    "        self.t_f = np.squeeze(np.asarray(self.t_f), axis=1)\n",
    "        self.i_f = np.squeeze(np.asarray(self.i_f), axis=1)\n",
    "    \n",
    "    def __len__(self):\n",
    "        # The length of the dataset is the length of the labels\n",
    "        return len(self.label)\n",
    "    \n",
    "    def __getitem__(self, idx):\n",
    "        # Convert idx from tensor to list if it's a tensor\n",
    "        if torch.is_tensor(idx):\n",
    "            idx = idx.tolist()\n",
    "        \n",
    "        # Extract data for the given index\n",
    "        name = self.name[idx]\n",
    "        label = self.label[idx]\n",
    "        T = self.t_f[idx, :]\n",
    "        I = self.i_f[idx, :]\n",
    "        text_description = self.text_descriptions[idx]  # Extract the text description\n",
    "        \n",
    "        # Create a sample dictionary to return\n",
    "        sample = {\n",
    "            'label': label,\n",
    "            'processed_txt': T,\n",
    "            'processed_img': I,\n",
    "            'name': name,\n",
    "            'text_description': text_description  # Include the text description in the sample\n",
    "        }\n",
    "        \n",
    "        return sample\n",
    "    "
   ]
  },
  {
   "cell_type": "code",
   "execution_count": 38,
   "id": "6758fcb1",
   "metadata": {},
   "outputs": [
    {
     "data": {
      "application/vnd.jupyter.widget-view+json": {
       "model_id": "c2d663395c16459bb1f02933aa9f84bc",
       "version_major": 2,
       "version_minor": 0
      },
      "text/plain": [
       "0it [00:00, ?it/s]"
      ]
     },
     "metadata": {},
     "output_type": "display_data"
    }
   ],
   "source": [
    "sample_dataset_tune = HatefulDataset2(data_test1)"
   ]
  },
  {
   "cell_type": "code",
   "execution_count": 39,
   "id": "a8a22a33",
   "metadata": {},
   "outputs": [],
   "source": [
    "torch.save(sample_dataset_tune,'MAMI_tune5.pt')"
   ]
  },
  {
   "cell_type": "code",
   "execution_count": 40,
   "id": "e8dbbfec",
   "metadata": {},
   "outputs": [],
   "source": [
    "sample_dataset_test= torch.load(\"MAMI_tune5.pt\")"
   ]
  },
  {
   "cell_type": "code",
   "execution_count": 41,
   "id": "c6ef4841",
   "metadata": {},
   "outputs": [
    {
     "data": {
      "text/plain": [
       "{'label': 1,\n",
       " 'processed_txt': array([ 2.82500088e-01,  1.83196336e-01, -1.67982221e-01,  1.50857374e-01,\n",
       "        -4.27507013e-02, -3.59965116e-02,  6.80844411e-02, -1.14675738e-01,\n",
       "        -1.01015195e-01, -1.86859928e-02,  4.85697128e-02, -5.86252958e-02,\n",
       "         5.95894754e-02,  4.20276791e-01, -5.42770885e-02, -2.03694031e-03,\n",
       "         2.90705502e-01,  1.22283399e-02,  7.34806731e-02, -2.00048499e-02,\n",
       "         1.01662531e-01, -9.98960882e-02,  3.59894708e-02, -2.31263954e-02,\n",
       "        -3.54237221e-02,  2.42099762e-01,  7.71585032e-02,  3.99403960e-01,\n",
       "        -4.51284975e-01, -7.06431866e-02, -2.85889745e-01, -2.30849087e-01,\n",
       "        -1.06287979e-01,  2.83340774e-02,  3.58357936e-01,  1.27430961e-01,\n",
       "         2.00547859e-01,  6.66579604e-02,  1.25808761e-01, -2.14498729e-01,\n",
       "         5.50239794e-02, -2.56351113e-01,  4.55249585e-02, -2.87044980e-02,\n",
       "         1.35561183e-01, -2.03634799e-01,  1.65566295e-01,  1.88449755e-01,\n",
       "         1.47859856e-01, -1.96928486e-01,  1.68458313e-01, -7.62188137e-02,\n",
       "         1.79189399e-01,  2.19770074e-01,  1.88631490e-02, -2.25622326e-01,\n",
       "        -4.55032401e-02,  1.43831655e-01, -1.43006146e-01,  2.50000030e-01,\n",
       "         1.53758168e-01, -1.37196168e-01, -1.59756586e-01,  2.54972856e-02,\n",
       "        -3.15162569e-01,  3.48978341e-01, -4.15599346e-01, -1.15897723e-01,\n",
       "        -7.08284378e-01,  2.15106294e-01,  1.19723156e-01,  8.89140889e-02,\n",
       "        -2.42563024e-01, -1.36175871e-01,  2.07720950e-01,  1.74657568e-01,\n",
       "        -1.35411978e-01, -3.17540646e-01,  1.49593398e-01,  9.36708823e-02,\n",
       "         4.69699055e-01, -1.93914473e-01, -5.17013185e-02,  1.34673253e-01,\n",
       "         1.11292087e-01, -1.27743572e-01, -2.92034715e-01, -1.80711478e-01,\n",
       "         4.79487717e-01, -4.41843681e-02,  1.62784219e-01,  1.11206196e-01,\n",
       "         3.90879661e-01,  7.63150528e-02, -1.36310324e-01, -3.94022137e-01,\n",
       "         2.75857329e-01,  1.43176213e-01,  8.06980357e-02, -4.46249358e-02,\n",
       "         3.02716613e-01,  9.13127810e-02, -5.55586964e-02, -4.96840149e-01,\n",
       "        -5.51188700e-02, -1.76052958e-01, -2.81471461e-02, -9.16853175e-02,\n",
       "        -9.99536365e-02,  3.33659112e-01,  1.71303097e-02, -1.68559879e-01,\n",
       "        -1.80508345e-01,  3.39895993e-01, -3.98511469e-01, -2.56878715e-02,\n",
       "        -9.29524675e-02,  2.08255842e-01, -7.63117433e-01, -3.61803025e-01,\n",
       "        -3.86933953e-01, -1.32127389e-01,  5.28127700e-02, -1.25395119e-01,\n",
       "        -1.08615033e-01,  4.88670021e-02,  1.66642636e-01,  1.70469269e-01,\n",
       "        -3.38096380e-01, -6.20134175e-02,  1.20433688e-01, -4.82739061e-01,\n",
       "         3.72570381e-02,  8.57050270e-02, -1.60572827e-01, -2.53699243e-01,\n",
       "         1.12235114e-01,  2.81001717e-01,  1.47505581e-01, -8.97318572e-02,\n",
       "        -7.05720857e-02,  5.08909747e-02,  1.54753834e-01,  2.93044537e-01,\n",
       "         1.38385832e-01, -8.44810084e-02,  9.61128771e-02,  1.44936115e-01,\n",
       "         2.62145519e-01,  1.99510872e-01,  4.19349223e-01,  2.86581405e-02,\n",
       "         2.59738062e-02, -3.86388972e-02, -1.51798695e-01, -3.45926642e-01,\n",
       "        -2.40700468e-02, -1.17220983e-01, -3.77609551e-01, -1.82643622e-01,\n",
       "        -1.35080278e-01,  2.14616045e-01,  1.53354123e-01, -1.13599695e-01,\n",
       "         2.81490713e-01, -5.06536245e-01, -2.75213003e-01, -4.15424742e-02,\n",
       "         9.68082063e-03,  7.30115771e-02,  8.44691321e-02,  8.63212347e-02,\n",
       "        -1.26614580e-02,  8.03332627e-02, -4.90208045e-02, -3.40188891e-01,\n",
       "        -1.05474249e-01, -5.94358623e-01, -3.55656147e-01, -2.01154053e-01,\n",
       "         1.87517270e-01, -1.40645340e-01,  2.87334502e-01, -1.80390775e-01,\n",
       "         1.28024310e-01, -6.04610629e-02, -3.02549362e-01, -2.41286457e-01,\n",
       "        -1.38010219e-01,  1.79041624e-01,  7.42459893e-02, -2.10734904e-01,\n",
       "        -9.09509584e-02, -1.14090502e-01,  3.68787766e-01, -2.95162034e+00,\n",
       "         1.82988346e-01,  3.58521253e-01, -3.79485667e-01,  7.17038438e-02,\n",
       "         8.02152157e-02,  9.72850144e-01,  4.09299918e-02, -1.72131240e-01,\n",
       "         4.52181727e-01,  5.02469726e-02,  6.29573613e-02, -1.37264147e-01,\n",
       "         2.00972334e-02,  3.51041257e-02, -3.03951874e-02,  2.75536031e-01,\n",
       "        -5.66823423e-01,  1.01649597e-01,  8.17531273e-02, -5.21429926e-02,\n",
       "        -1.08075231e-01, -1.06832087e-01,  1.06929317e-01,  2.02189818e-01,\n",
       "        -6.14838228e-02,  1.22950263e-02,  3.38316053e-01, -2.37872854e-01,\n",
       "        -7.60366991e-02, -2.59162933e-01, -2.96706483e-02, -5.34683228e-01,\n",
       "        -2.15388507e-01, -2.17696242e-02, -7.89904036e-03, -3.93669933e-01,\n",
       "        -9.82620120e-01, -1.40225589e-01, -2.10628748e-01,  5.52994013e-01,\n",
       "        -3.73436995e-02,  1.16626292e-01, -5.21198399e-02,  1.08875908e-01,\n",
       "         4.79826182e-02,  1.85687989e-01,  1.62543263e-02,  2.75163680e-01,\n",
       "        -2.81164557e-01,  2.29129732e-01,  2.67798692e-01, -1.76400524e-02,\n",
       "        -5.97155765e-02, -2.77524650e-01,  2.42249236e-01,  1.68232560e-01,\n",
       "         2.70774990e-01, -2.76608858e-02,  3.68079655e-02,  1.48429151e-03,\n",
       "        -1.79602697e-01, -3.88719797e-01, -1.31452024e-01,  1.98120683e-01,\n",
       "         1.77772060e-01,  9.28817689e-02,  3.38530362e-01, -2.40248859e-01,\n",
       "        -2.14201242e-01, -6.98432326e-02, -1.60324991e-01, -3.56626250e-02,\n",
       "        -2.74197102e-01, -1.91087350e-01, -1.97813720e-01,  6.59023821e-02,\n",
       "        -5.42415202e-01, -2.57060081e-01, -3.04277718e-01, -3.32234912e-02,\n",
       "         1.11200467e-01, -1.02078922e-01, -3.28314424e-01,  1.93586990e-01,\n",
       "         1.13109082e-01,  2.14854494e-01,  2.06636414e-01,  2.38154426e-01,\n",
       "         2.98900127e-01, -1.34995282e-01, -1.75734401e-01, -4.10588145e-01,\n",
       "        -3.02110600e+00, -6.84447289e-02, -9.94922593e-02, -5.60566969e-02,\n",
       "        -4.53697562e-01, -8.79516825e-02, -2.63709396e-01, -1.05333596e-01,\n",
       "         1.52717188e-01,  3.31166014e-02, -1.24026313e-01, -2.64672935e-01,\n",
       "        -1.59035027e-01,  2.35924527e-01, -2.31097877e-01, -2.15820983e-01,\n",
       "        -2.26620346e-01, -2.41825022e-02,  3.18319082e-01,  8.83850977e-02,\n",
       "         2.20253598e-03,  2.86181308e-02,  3.17660660e-01,  1.63428128e-01,\n",
       "        -3.03437322e-01, -1.90279782e-01, -1.37865201e-01, -4.05012131e-01,\n",
       "        -1.18728399e+01,  5.78129470e-01,  1.22820333e-01,  1.65032864e-01,\n",
       "         1.44848749e-01, -7.54203871e-02, -4.79269922e-02,  2.76491940e-01,\n",
       "        -3.45223211e-02, -3.82944018e-01, -3.35927308e-01,  2.46338084e-01,\n",
       "         4.88621816e-02, -5.41249752e-01, -5.94308197e-01,  9.90677848e-02,\n",
       "         2.44249910e-01, -4.84525487e-02,  1.32259205e-01, -2.74569184e-01,\n",
       "        -3.71642187e-02, -9.90165770e-02,  3.60854924e-01, -1.39612779e-01,\n",
       "        -1.34056062e-01,  1.14467077e-01, -5.76835386e-02,  1.15109771e-01,\n",
       "         3.30641180e-01, -9.13629606e-02,  2.00849712e-01,  1.09065473e-01,\n",
       "        -3.44294041e-01, -4.69567716e-01,  2.39257246e-01,  1.96768627e-01,\n",
       "        -1.42996460e-02, -1.63075343e-01,  3.99811029e-01, -2.91853875e-01,\n",
       "        -2.22894356e-01,  2.29338527e-01, -7.68393464e-03, -5.32932580e-01,\n",
       "         2.67876506e-01,  2.17155404e-02,  4.66683775e-01, -2.78998226e-01,\n",
       "        -3.23023766e-01, -2.20967010e-01, -1.18305981e-01, -7.47841746e-02,\n",
       "         3.85495313e-02,  3.29421073e-01,  1.22419506e-01, -1.08436570e-01,\n",
       "         1.49712667e-01, -3.49812806e-02, -8.48782435e-02,  5.87053001e-02,\n",
       "         1.78562909e-01,  6.64115231e-03,  1.42764658e-01, -1.74819365e-01,\n",
       "        -6.05029762e-01,  7.50853494e-02, -2.03181431e-01,  1.38501257e-01,\n",
       "         9.27892774e-02, -1.28621995e-01, -1.75745279e-01, -1.02081373e-01,\n",
       "         3.61883231e-02,  2.91968822e-01,  1.45751983e-05, -1.87043156e-02,\n",
       "         4.82729673e-02,  5.67976758e-02, -1.22586578e-01, -6.13049455e-02,\n",
       "         1.96095444e-02,  4.06080157e-01, -1.67108059e-01, -2.76563227e-01,\n",
       "         2.91052461e-01,  1.56729937e-01,  2.43657365e-01,  3.18733782e-01,\n",
       "         2.84967154e-01,  3.41391772e-01,  1.13938682e-01,  5.04282154e-02,\n",
       "         3.70839685e-02,  5.94827160e-02,  3.19145918e-01,  1.11098088e-01,\n",
       "         3.26871313e-02, -1.56975901e+00, -6.40569627e-02,  2.66368419e-01,\n",
       "         3.45831931e-01, -6.60468563e-02, -1.07948920e-02,  2.08181798e-01,\n",
       "         3.34744543e-01, -3.53921264e-01,  1.23874754e-01, -2.01323375e-01,\n",
       "        -3.13244015e-01, -5.82164586e-01, -4.40814346e-02, -1.08552083e-01,\n",
       "         3.52086753e-01,  3.32681835e-02,  1.88219756e-01, -4.36458737e-01,\n",
       "        -8.47271681e-02, -3.03353995e-01,  1.64960355e-01,  9.15667713e-02,\n",
       "        -1.52253762e-01, -1.67378545e-01,  1.16501451e-01, -1.06389076e-01,\n",
       "         1.00658150e+01,  1.51969329e-01, -2.28701562e-01, -4.70866799e-01,\n",
       "        -8.59914199e-02, -2.23748192e-01, -2.05002755e-01, -1.01630330e-01,\n",
       "         8.72100443e-02, -1.98785529e-01, -2.77499020e-01,  2.49674395e-01,\n",
       "         5.60115695e-01, -1.22034267e-01,  9.30504501e-02,  2.19750121e-01,\n",
       "         1.14998557e-01, -1.87525228e-01, -1.56104818e-01,  3.25791270e-01,\n",
       "        -1.58622898e-02, -1.08557202e-01, -1.75106481e-01,  1.35796979e-01,\n",
       "        -1.79931179e-01, -1.41470283e-01,  2.09975988e-01, -2.04543799e-01,\n",
       "        -3.14053446e-02,  2.85868775e-02, -1.64988548e-01,  8.06988776e-02,\n",
       "        -1.05818011e-01, -7.03644603e-02,  2.62910962e-01, -1.28717273e-01,\n",
       "         1.23053126e-01, -2.02544466e-01, -4.73787218e-01,  8.02452862e-03,\n",
       "         1.50430396e-01,  1.20154455e-01,  2.60688007e-01, -2.09778443e-01,\n",
       "         1.60405293e-01,  2.46160105e-01, -1.67190403e-01, -1.14649937e-01,\n",
       "         7.21581653e-02, -4.95358527e-01,  7.77643248e-02,  6.82226196e-02,\n",
       "        -2.33655095e-01, -2.20619947e-01, -2.33181342e-01, -1.73320889e-01,\n",
       "         1.80841178e-01,  1.55851677e-01, -2.21418753e-01, -1.20534837e-01,\n",
       "         3.33725214e-01,  6.33684248e-02, -3.01861912e-01, -5.74313663e-02,\n",
       "        -2.07064539e-01, -3.23752493e-01, -3.32803838e-02,  9.52100158e-02,\n",
       "         9.94817615e-02, -1.30913079e-01, -1.94132894e-01, -6.00390956e-02,\n",
       "         2.16279924e-01,  3.31984647e-02,  3.71637940e-01,  6.11795038e-02,\n",
       "        -9.31251124e-02, -3.07201035e-02, -1.05222277e-01, -4.77983028e-01,\n",
       "         5.64423576e-02,  1.11700222e-01,  5.73766008e-02,  3.98821622e-01,\n",
       "        -2.63476819e-01, -4.82481085e-02, -1.10324137e-01,  1.21668475e-02,\n",
       "        -1.68535784e-01,  1.41086161e-01, -2.22702384e-01, -2.42571190e-01,\n",
       "         4.27332997e-01,  4.17241491e-02, -4.18095082e-01, -8.97673592e-02,\n",
       "        -4.24361788e-04,  1.38275698e-01, -7.84796923e-02, -2.15744197e-01,\n",
       "         2.23312005e-01,  4.11312282e-02, -1.31328121e-01,  1.07621372e-01,\n",
       "         2.37729833e-01, -5.83300143e-02, -7.26595595e-02, -2.03894511e-01,\n",
       "        -5.75198889e-01, -9.84189063e-02,  2.19532281e-01, -9.58256498e-02,\n",
       "        -2.49405373e-02, -4.67262641e-02,  5.10667086e-01, -3.72452646e-01,\n",
       "        -3.64117861e-01, -1.57323450e-01,  1.59213319e-01, -3.49677444e-01,\n",
       "        -3.13027710e-01,  3.24436307e-01,  3.07454735e-01,  9.41498205e-02,\n",
       "         4.66969162e-01,  1.43902779e-01,  1.41247809e-02,  2.49426275e-01,\n",
       "         9.72364768e-02,  1.49380833e-01,  1.28892615e-01, -1.79804079e-02,\n",
       "        -4.29055542e-02,  9.97176394e-02, -9.36051831e-02,  1.84988141e-01,\n",
       "         1.52580276e-01,  1.18006274e-01, -1.07254453e-01, -1.54531896e-01,\n",
       "         2.09514797e-01,  1.01427369e-01, -4.31516051e-01,  2.27662787e-01,\n",
       "        -1.76971599e-01, -1.82960600e-01,  1.18166625e-01, -2.09653422e-01,\n",
       "        -7.20960647e-02,  7.97605067e-02, -6.88940883e-02, -3.28541934e-01,\n",
       "         2.30126865e-02,  3.10337506e-02, -2.48194486e-01, -1.53700858e-01,\n",
       "        -3.04737508e-01, -6.00112677e-01,  3.02625448e-01, -7.54805878e-02,\n",
       "        -2.17827588e-01, -1.11492455e-01, -3.75667866e-03, -4.13848944e-02,\n",
       "        -2.92732865e-01, -3.86224240e-01, -2.05927357e-01, -1.37267187e-01,\n",
       "         1.47360504e-01,  4.11150381e-02,  1.67960137e-01, -5.85399009e-02,\n",
       "         5.66957928e-02,  2.52542198e-01, -2.95044839e-01,  1.38631854e-02,\n",
       "         3.71741280e-02, -1.68648958e-01, -4.20874283e-02,  6.03010133e-02,\n",
       "        -4.79811765e-02,  2.73501664e-01,  5.05888879e-01,  2.28398964e-01,\n",
       "         2.17745975e-01, -5.38358748e-01, -2.62078196e-02, -5.91282323e-02,\n",
       "        -2.99096443e-02,  1.55441344e-01,  1.79457992e-01, -1.74757205e-02,\n",
       "         1.64042175e-01, -1.51863441e-01, -1.64558277e-01, -2.43978456e-01,\n",
       "         2.13550657e-01,  5.01959622e-01, -7.48606026e-03, -7.88184628e-03,\n",
       "         4.19437021e-01, -7.43837580e-02,  1.05433054e-01,  2.10941344e-01,\n",
       "         1.61087251e+00, -9.10320580e-02, -5.51403910e-02, -3.14044923e-01,\n",
       "         3.14967558e-02,  3.71921547e-02, -5.25478721e-02,  6.08184561e-02,\n",
       "        -1.01919979e-01, -5.00977635e-02, -1.29457088e-02,  8.81150290e-02,\n",
       "        -7.39776492e-02,  2.69029588e-01,  2.61294872e-01, -1.17826298e-01,\n",
       "        -2.23841563e-01,  6.58033192e-02, -8.02140236e-02, -1.38010874e-01,\n",
       "         7.43132317e-03, -1.22159123e-02, -1.40875071e-01,  1.32336048e-02,\n",
       "         4.09106128e-02, -2.35486161e-02,  9.80477408e-02, -3.92467193e-02,\n",
       "        -3.42252076e-01, -6.03689365e-02,  1.64830953e-01,  1.12629436e-01,\n",
       "        -1.91652864e-01,  1.84579119e-02,  6.72331173e-03,  1.30528823e-01,\n",
       "         1.46046579e-01, -2.07607970e-01, -2.02692702e-01, -5.28910279e-01,\n",
       "         2.66276985e-01, -2.52584428e-01, -4.47419018e-01, -1.34214461e-01,\n",
       "         7.01548755e-02, -1.91674694e-01,  5.89480340e-01,  5.31253964e-03,\n",
       "        -2.82287836e-01, -1.19976491e-01,  1.11892156e-01,  9.74852592e-02,\n",
       "        -2.71456599e-01,  3.84624720e-01, -6.07776120e-02, -2.13222533e-01,\n",
       "         1.38299121e-02, -2.52112955e-01,  5.53982221e-02, -7.23749518e-01,\n",
       "        -2.77162403e-01,  2.40198076e-01, -5.39944507e-02, -8.50480869e-02,\n",
       "         1.98450387e-01, -3.10504615e-01,  8.26255307e-02,  3.43759090e-01,\n",
       "         3.05132091e-01, -1.47902489e-01,  2.35186577e-01,  4.22608256e-02,\n",
       "         1.16050787e-01, -1.48176968e-01, -3.64706308e-01,  6.49110973e-03,\n",
       "         3.53822019e-03,  1.32853352e-03,  1.76143110e-01, -2.39930227e-01,\n",
       "        -4.86814529e-01, -1.30177096e-01,  9.30620730e-02,  7.84813091e-02,\n",
       "         3.35132517e-02,  1.15378223e-01, -1.87360033e-01,  1.88075349e-01,\n",
       "         1.10012956e-01,  1.22305229e-01,  1.28685236e-01,  4.95725036e-01,\n",
       "         1.09782144e-01, -1.81118250e-01,  4.97763790e-02, -2.21599907e-01,\n",
       "        -4.33523566e-01,  7.61792064e-02,  1.89049333e-01, -3.78617972e-01,\n",
       "         1.69076264e-01,  3.03845495e-01,  1.64309144e-03,  6.07776418e-02,\n",
       "         7.82607049e-02,  4.13025469e-01,  1.41067401e-01, -2.65135467e-01,\n",
       "        -1.59486249e-01, -3.44116637e-03,  5.46003990e-02, -8.01573694e-03,\n",
       "         1.49284318e-01, -1.73146576e-01,  5.32900169e-02, -1.35818571e-01,\n",
       "        -5.62773459e-03, -1.54332459e-01,  3.79175007e-01,  3.27254862e-01,\n",
       "        -1.78084165e-01,  1.54892296e-01,  3.13397199e-01, -7.45807886e-02],\n",
       "       dtype=float32),\n",
       " 'processed_img': array([-1.7126e-01,  1.4709e-01,  5.8563e-02, -2.1265e-01,  4.6851e-01,\n",
       "        -1.1658e-01, -3.7109e-01, -3.6475e-01,  4.8511e-01,  2.8662e-01,\n",
       "         2.1753e-01, -1.1304e-01,  7.5000e-01, -5.2832e-01,  6.6602e-01,\n",
       "        -2.3056e-02,  1.0193e-01, -2.7417e-01,  1.3904e-01, -1.2341e-01,\n",
       "        -4.7388e-01, -1.1804e-01,  1.7566e-01, -4.0967e-01, -3.6035e-01,\n",
       "        -1.0956e-01,  3.3936e-02, -1.1273e-01, -4.6411e-01,  3.0258e-02,\n",
       "        -1.4978e-01,  6.3037e-01,  3.1348e-01, -1.6516e-01,  1.7432e-01,\n",
       "        -2.7441e-01, -4.9316e-01,  1.3672e-01, -3.8379e-01, -8.0811e-01,\n",
       "         4.2798e-01, -4.7388e-01, -3.3813e-01, -3.6426e-01,  9.0430e-01,\n",
       "         3.5195e+00, -1.2622e-01, -2.9077e-01, -2.3994e-03,  3.1421e-01,\n",
       "        -2.3987e-01,  1.8823e-01,  1.4075e-01, -3.4570e-01, -5.0732e-01,\n",
       "        -2.4670e-01, -3.5498e-01, -1.3298e-02, -3.0688e-01,  6.4844e-01,\n",
       "        -8.2275e-01,  2.3596e-01,  5.5389e-02,  2.4377e-01, -4.1779e-02,\n",
       "         7.8857e-02,  3.0835e-01,  2.8711e-01, -6.9287e-01, -6.5308e-02,\n",
       "        -1.2305e-01,  4.0137e-01,  6.1646e-02, -3.9233e-01, -2.0715e-01,\n",
       "        -2.4377e-01, -2.9614e-01, -2.8931e-01, -5.3320e-01,  1.7761e-01,\n",
       "        -1.6504e-01, -3.2739e-01,  7.2998e-02,  3.7061e-01,  2.2351e-01,\n",
       "         1.8994e-01,  5.3760e-01, -1.6113e-01,  3.0078e-01,  6.2683e-02,\n",
       "         2.3328e-01, -6.4941e-01, -5.4414e+00,  1.2764e+00,  7.8418e-01,\n",
       "         2.7686e-01, -1.1346e-01,  4.7144e-01, -1.3193e+00, -1.0473e-04,\n",
       "        -2.6978e-01, -1.8677e-01,  2.4390e-01,  2.4487e-01,  6.5479e-01,\n",
       "         1.9470e-01,  1.3027e+00, -8.6853e-02, -3.9331e-01, -2.3169e-01,\n",
       "         2.8613e-01,  1.0840e-01, -2.9126e-01, -1.1938e-01, -2.9346e-01,\n",
       "         3.2129e-01, -3.9404e-01, -3.2690e-01,  4.5288e-01,  4.6558e-01,\n",
       "         1.9983e-01, -8.1006e-01, -1.1035e-01,  1.1731e-01, -2.9126e-01,\n",
       "         3.6353e-01, -2.6196e-01, -1.2659e-01, -3.8757e-02,  4.1162e-01,\n",
       "         4.2725e-02,  4.2456e-01,  7.7515e-02,  8.4521e-01, -4.3716e-03,\n",
       "        -3.8818e-02, -2.9663e-01,  4.0112e-01, -5.8545e-01,  1.2793e-01,\n",
       "        -8.5632e-02, -1.5511e-02, -6.3721e-02,  3.9711e-03, -7.4707e-02,\n",
       "         6.4111e-01, -1.3916e-01, -3.3789e-01, -2.7686e-01,  3.5400e-02,\n",
       "         4.4141e-01,  2.6611e-01,  1.6670e+00, -2.0050e-02,  2.9907e-01,\n",
       "        -2.6538e-01,  3.0518e-01, -2.3999e-01, -2.4365e-01,  2.3303e-01,\n",
       "        -4.0918e-01, -4.1626e-01,  3.3032e-01,  3.6646e-01,  3.4180e-01,\n",
       "        -5.6396e-01, -2.5537e-01,  3.4863e-01,  3.3301e-01,  2.7275e-03,\n",
       "         3.4448e-01, -2.8320e-01, -2.6123e-01, -1.9238e-01, -2.3413e-01,\n",
       "         1.9629e-01,  1.0132e-01, -8.2626e-03,  2.5854e-01, -9.9548e-02,\n",
       "        -1.5552e-01,  1.9363e-02, -3.7769e-01,  3.8696e-01, -1.8509e-02,\n",
       "         6.0089e-02, -4.7974e-01, -5.1367e-01,  3.4473e-01,  7.1838e-02,\n",
       "         1.8396e-01,  2.0642e-01,  3.2397e-01, -2.9761e-01, -3.7994e-02,\n",
       "         1.7480e-01,  6.7322e-02, -1.9421e-01, -6.4795e-01, -3.5181e-01,\n",
       "        -2.9443e-01,  1.3757e-01, -1.1389e-01,  1.6138e-01,  7.3340e-01,\n",
       "         1.6516e-01, -1.7065e-01, -6.8176e-02, -1.2878e-01, -1.2390e-01,\n",
       "         7.3535e-01, -3.7671e-01, -1.7371e-01,  4.9316e-01, -5.3174e-01,\n",
       "        -2.0349e-01,  8.4778e-02,  2.3267e-01, -1.0919e-01,  1.1273e-01,\n",
       "        -7.6123e-01,  8.7744e-01,  1.6077e-01, -5.7129e-01,  2.2766e-01,\n",
       "         2.9932e-01, -3.4973e-02, -6.4774e-03, -4.9805e-01,  3.9868e-01,\n",
       "        -1.4233e-01,  2.8394e-01,  2.0361e-01,  5.5237e-03, -4.8218e-01,\n",
       "        -2.7954e-01, -2.5952e-01, -6.9678e-01,  9.5459e-02,  4.6021e-01,\n",
       "        -4.9951e-01,  2.1899e-01, -1.0559e-01,  1.1389e-01, -1.6711e-01,\n",
       "         3.0542e-01,  5.7617e-02, -9.1125e-02, -2.6855e-02,  5.5664e-01,\n",
       "        -6.7444e-03, -2.2217e-01,  3.4717e-01, -5.4810e-02, -9.2529e-02,\n",
       "        -3.1929e-03, -1.2335e-01, -6.5283e-01,  8.5205e-02,  2.9419e-01,\n",
       "         2.4695e-01,  2.5659e-01, -1.4062e-01,  3.7524e-01, -1.6504e-01,\n",
       "        -1.6992e-01, -1.0986e-02,  1.2354e-01,  2.4597e-01, -4.3896e-01,\n",
       "         3.2300e-01, -4.0332e-01,  1.4870e-02,  2.1204e-01,  1.9627e-03,\n",
       "         4.3286e-01,  4.8035e-02, -4.1479e-01,  3.4521e-01,  3.0957e-01,\n",
       "         1.1182e-01,  2.9102e-01, -7.0947e-01, -1.5576e-01,  4.5312e-01,\n",
       "         2.4573e-01,  1.1104e+00, -1.9836e-01, -2.2681e-01,  5.7556e-02,\n",
       "         1.5466e-01, -6.5979e-02, -8.9746e-01, -2.6709e-01, -7.3059e-02,\n",
       "        -2.3853e-01, -5.0842e-02,  1.0431e-01, -5.0244e-01,  6.7383e-02,\n",
       "        -5.2002e-01, -2.4182e-01, -6.3599e-02,  3.0371e-01, -7.3291e-01,\n",
       "         4.5190e-01, -2.0294e-02,  5.9521e-01,  7.5928e-01,  2.3474e-01,\n",
       "        -1.9348e-01,  1.0117e+00,  8.4424e-01, -1.3623e-01,  6.8130e-03,\n",
       "         1.7737e-01,  1.6968e-02,  4.4458e-01,  1.6394e-01,  2.6807e-01,\n",
       "         5.0201e-02,  9.2969e-01,  1.3904e-01, -5.1416e-01, -6.2598e-01,\n",
       "        -1.1848e-02,  3.5962e-01, -6.8262e-01,  1.8982e-01, -6.3477e-01,\n",
       "        -4.7192e-01,  6.6772e-02,  1.3318e-01,  1.6101e-01, -1.2512e-01,\n",
       "         2.8613e-01, -1.3354e-01, -3.2397e-01, -6.2561e-02,  3.1177e-01,\n",
       "         8.7769e-02, -1.8433e-01,  5.8643e-01, -6.4209e-02, -1.9397e-01,\n",
       "        -4.1772e-01, -2.2742e-01, -1.1023e-01,  2.5073e-01,  1.2949e+00,\n",
       "         3.9087e-01, -2.1011e-02,  4.6387e-01, -2.2888e-01, -5.0830e-01,\n",
       "         9.8022e-02, -2.3315e-01,  1.2988e+00, -2.2156e-01, -1.9928e-02,\n",
       "         6.9629e-01, -1.1847e-01,  3.0176e-01,  1.3000e-01,  1.3025e-01,\n",
       "         2.4185e-02,  2.3613e-03, -4.7760e-02, -1.1060e-01, -4.3213e-01,\n",
       "         2.3987e-01,  1.2891e-01, -3.6792e-01, -1.2988e-01,  1.4600e-01,\n",
       "         8.4961e-02,  1.1328e+00, -2.7130e-02, -1.6416e+00,  1.2537e-01,\n",
       "        -1.1096e-01,  6.0889e-01, -3.1274e-01,  2.9077e-01, -3.3813e-01,\n",
       "         3.1689e-01,  8.0273e-01,  9.7839e-02, -3.5303e-01, -1.9004e+00,\n",
       "        -3.6157e-01,  1.7285e-01,  2.4246e-02,  2.9492e-01, -3.3630e-02,\n",
       "         3.6182e-01,  9.2346e-02, -9.5154e-02,  4.8535e-01, -4.0991e-01,\n",
       "         3.3643e-01,  4.2236e-02, -8.0420e-01, -2.3364e-01, -3.3838e-01,\n",
       "        -1.8457e-01,  4.4995e-01,  1.1273e-01, -1.3574e-01,  2.1204e-01,\n",
       "         4.4312e-01,  1.0846e-01, -1.1426e-01,  6.2466e-04, -1.4258e-01,\n",
       "         9.0561e-03,  8.2458e-02, -3.0908e-01, -3.2495e-01, -4.6680e-01,\n",
       "         7.2571e-02,  5.2148e-01,  8.9931e-04,  9.0234e-01, -3.1396e-01,\n",
       "         6.1371e-02,  8.5449e-01, -5.4199e-01,  5.9424e-01, -3.7012e-01,\n",
       "         1.2150e-03,  8.4534e-02,  1.9812e-01, -4.7363e-01,  1.3843e-01,\n",
       "         2.4585e-01, -2.0215e-01,  6.2866e-02, -4.0942e-01,  4.7827e-01,\n",
       "         1.0632e-01, -5.0977e-01,  1.6174e-02,  5.9766e-01, -1.3879e-01,\n",
       "         3.4180e-01, -3.2684e-02, -1.6858e-01, -3.1348e-01,  4.5605e-01,\n",
       "         9.8340e-01, -3.5107e-01, -5.1953e-01,  3.4521e-01,  2.9312e-02,\n",
       "         6.9214e-02, -1.3184e-01, -3.1799e-02,  6.6699e-01,  1.5900e-02,\n",
       "        -1.6296e-01, -3.1079e-01, -1.4795e-01, -4.4531e-01, -2.4292e-01,\n",
       "        -2.2693e-01,  3.1738e-02, -2.3584e-01, -1.7236e-01,  2.4402e-01,\n",
       "         3.5095e-02,  2.5635e-01, -1.0876e-01, -5.1416e-01,  2.4536e-02,\n",
       "        -8.5022e-02,  1.2903e-01,  3.4253e-01, -5.0342e-01,  3.9600e-01,\n",
       "         3.2959e-01, -4.3652e-01,  1.4600e-01,  2.1472e-01,  3.6084e-01,\n",
       "         2.5195e-01, -5.8632e-03,  3.8770e-01,  9.8694e-02,  2.5925e-02,\n",
       "         3.4241e-02, -8.5693e-02,  5.6299e-01,  2.4512e-01, -4.4409e-01,\n",
       "        -1.2708e-01,  4.6661e-02, -3.9526e-01,  1.2079e-01, -3.4546e-01,\n",
       "         1.3464e-01,  5.0928e-01, -1.6089e-01,  2.5732e-01,  2.4023e-01,\n",
       "        -4.8218e-02, -5.6201e-01, -2.6685e-01, -6.0120e-02,  3.0688e-01,\n",
       "        -6.3477e-02,  1.7627e-01], dtype=float16),\n",
       " 'name': '15008.jpg',\n",
       " 'text_description': 'People be like... going to the person offering the highest price.'}"
      ]
     },
     "execution_count": 41,
     "metadata": {},
     "output_type": "execute_result"
    }
   ],
   "source": [
    "sample_dataset_test[5]"
   ]
  },
  {
   "cell_type": "code",
   "execution_count": 52,
   "id": "67b3328c",
   "metadata": {},
   "outputs": [
    {
     "name": "stdout",
     "output_type": "stream",
     "text": [
      "ethic:59.099999999999994%\n",
      "non-ethic:40.9%\n"
     ]
    }
   ],
   "source": [
    "import torch\n",
    "import torch.nn.functional as F\n",
    "from torch.utils.data import DataLoader\n",
    "import pytorch_lightning as pl\n",
    "\n",
    "class Classifier(pl.LightningModule):\n",
    "    def __init__(self):\n",
    "        super().__init__()\n",
    "        self.text_processor = torch.nn.Linear(768, 256)\n",
    "        self.image_processor = torch.nn.Linear(512, 256)\n",
    "        self.combined_processor = torch.nn.Linear(512, 2)\n",
    "        self.text_only_processor = torch.nn.Linear(256, 2)\n",
    "        self.dropout = torch.nn.Dropout(0.1)\n",
    "        self.activation = torch.nn.ReLU()\n",
    "\n",
    "    def forward(self, text_features, image_features=None):\n",
    "        text_out = self.dropout(self.activation(self.text_processor(text_features)))\n",
    "        if image_features is not None:\n",
    "            image_out = self.dropout(self.activation(self.image_processor(image_features)))\n",
    "            combined_features = torch.cat((text_out, image_out), dim=1)\n",
    "            return torch.log_softmax(self.combined_processor(combined_features), dim=1)\n",
    "        else:\n",
    "            return torch.log_softmax(self.text_only_processor(text_out), dim=1)\n",
    "\n",
    "def load_model(checkpoint_path):\n",
    "    modelc = Classifier.load_from_checkpoint(checkpoint_path)\n",
    "    modelc.eval()\n",
    "    modelc.freeze()\n",
    "    return modelc\n",
    "\n",
    "class HmDataModule(pl.LightningDataModule):\n",
    "    def __init__(self, test_dataset):\n",
    "        super().__init__()\n",
    "        self.test_dataset = test_dataset\n",
    "\n",
    "    def test_dataloader(self):\n",
    "        return DataLoader(self.test_dataset, batch_size=128, shuffle=False)\n",
    "\n",
    "def run_inference(modelc, data_module):\n",
    "    class_counts = [0, 0]  # Assuming two classes\n",
    "    \n",
    "    dataloader = data_module.test_dataloader()\n",
    "\n",
    "    with torch.no_grad():\n",
    "        for batch in dataloader:\n",
    "            text_features, image_features = batch['processed_txt'].float(), batch['processed_img'].float()\n",
    "            outputs = modelc(text_features, image_features)\n",
    "            predictions = torch.argmax(outputs, dim=1)\n",
    "            for pred in predictions:\n",
    "                class_counts[pred.item()] += 1\n",
    "\n",
    "    total = sum(class_counts)\n",
    "    percentages = [count / total * 100 for count in class_counts]\n",
    "    return percentages\n",
    "\n",
    "#Setup and usage\n",
    "checkpoint_path = '/DATA/atul_2221cs20/jitendra/New_model/dehate/epoch27-val_f1_all_offn0.67-v1.ckpt'\n",
    "modelc = load_model(checkpoint_path)\n",
    "test_dataset = torch.load(\"MAMI_tune5.pt\")\n",
    "data_module = HmDataModule(test_dataset=test_dataset)\n",
    "\n",
    "# Run inference\n",
    "percentages = run_inference(modelc, data_module)\n",
    "print(\"ethic:\"+str(percentages[0])+\"%\")\n",
    "print(\"non-ethic:\"+str(percentages[1])+\"%\")\n",
    "\n",
    "\n"
   ]
  },
  {
   "cell_type": "code",
   "execution_count": null,
   "id": "59414703",
   "metadata": {},
   "outputs": [],
   "source": []
  },
  {
   "cell_type": "code",
   "execution_count": null,
   "id": "3aea8ecf",
   "metadata": {},
   "outputs": [],
   "source": []
  },
  {
   "cell_type": "code",
   "execution_count": 287,
   "id": "a8f53163",
   "metadata": {},
   "outputs": [],
   "source": [
    "\n",
    "\n"
   ]
  },
  {
   "cell_type": "code",
   "execution_count": null,
   "id": "fa89b43a",
   "metadata": {},
   "outputs": [],
   "source": []
  },
  {
   "cell_type": "code",
   "execution_count": null,
   "id": "9c439d0c",
   "metadata": {},
   "outputs": [],
   "source": []
  },
  {
   "cell_type": "code",
   "execution_count": null,
   "id": "2f489e25",
   "metadata": {},
   "outputs": [],
   "source": []
  },
  {
   "cell_type": "code",
   "execution_count": 176,
   "id": "e8c4018b",
   "metadata": {},
   "outputs": [],
   "source": [
    "\n"
   ]
  },
  {
   "cell_type": "code",
   "execution_count": null,
   "id": "fa5ee37b",
   "metadata": {},
   "outputs": [],
   "source": []
  },
  {
   "cell_type": "code",
   "execution_count": null,
   "id": "40e6ff11",
   "metadata": {},
   "outputs": [],
   "source": []
  },
  {
   "cell_type": "code",
   "execution_count": null,
   "id": "afc7ec7a",
   "metadata": {},
   "outputs": [],
   "source": []
  },
  {
   "cell_type": "code",
   "execution_count": null,
   "id": "128fc2a3",
   "metadata": {},
   "outputs": [],
   "source": []
  },
  {
   "cell_type": "code",
   "execution_count": null,
   "id": "b6abd8a2",
   "metadata": {},
   "outputs": [],
   "source": []
  }
 ],
 "metadata": {
  "kernelspec": {
   "display_name": "Python 3 (ipykernel)",
   "language": "python",
   "name": "python3"
  },
  "language_info": {
   "codemirror_mode": {
    "name": "ipython",
    "version": 3
   },
   "file_extension": ".py",
   "mimetype": "text/x-python",
   "name": "python",
   "nbconvert_exporter": "python",
   "pygments_lexer": "ipython3",
   "version": "3.7.12"
  }
 },
 "nbformat": 4,
 "nbformat_minor": 5
}
